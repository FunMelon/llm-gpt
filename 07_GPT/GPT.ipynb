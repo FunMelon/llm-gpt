{
 "cells": [
  {
   "cell_type": "code",
   "id": "initial_id",
   "metadata": {
    "collapsed": true,
    "ExecuteTime": {
     "end_time": "2024-11-26T09:06:55.330958Z",
     "start_time": "2024-11-26T09:06:53.451258Z"
    }
   },
   "source": [
    "import numpy as np\n",
    "import torch\n",
    "import torch.nn as nn\n",
    "from torch.cuda import device\n",
    "\n",
    "d_k = 64 # K（=Q）维度\n",
    "d_v = 64 # V维度\n",
    "# 定义缩放点积注意力类\n",
    "class ScaledDotProductAttention(nn.Module):\n",
    "    def __init__(self):\n",
    "        super(ScaledDotProductAttention, self).__init__()\n",
    "    def forward(self, Q, K, V, attn_mask):\n",
    "        #----------------------维度信息------------------------\n",
    "        # Q、K、V [batch_size, n_heads, len_q/k/v, dim_k/v] (dim_q=dim_k)\n",
    "        # attn_mask [batch_size, n_heads, len_q, len_k]\n",
    "        #-------------------------------------------------------\n",
    "        # 计算注意力分数（原始权重）[batch_size, n_heads, len_q, dim_q] * [batch_size, n_heads, dim_k, len_q] = [batch_size, n_heads, len_q, len_k]\n",
    "        scores = torch.matmul(Q, K.transpose(-1, -2)) / np.sqrt(d_k)\n",
    "        #----------------------维度信息------------------------\n",
    "        # scores [batch_size, n_heads, len_q, len_k]\n",
    "        #-------------------------------------------------------\n",
    "        # 使用注意力掩码，将attn_mask中值为1的位置的权重替换为极小值\n",
    "        #----------------------维度信息------------------------\n",
    "        # attn_mask [batch_size, n_heads, len_q, len_k]\n",
    "        #-------------------------------------------------------\n",
    "        scores.masked_fill_(attn_mask, -1e9)\n",
    "        # 用softmax函数对scores进行归一化，得到注意力权重\n",
    "        weights = nn.Softmax(dim=-1)(scores)  # 创建了一个指定最后一个维度的softmax层，并对scores进行softmax操作\n",
    "        #----------------------维度信息------------------------\n",
    "        # weights [batch_size, n_heads, len_q, len_k]\n",
    "        #-------------------------------------------------------\n",
    "        # 计算上下文向量（也就是注意力值），是上下文信息的紧凑表示 [batch_size, n_heads, len_q, len_k] * [batch_size, n_heads, len_k, dim_v] = [batch_size, n_heads, len_q, dim_v]\n",
    "        context = torch.matmul(weights, V)\n",
    "        #----------------------维度信息------------------------\n",
    "        # context [batch_size, n_heads, len_q, dim_v]\n",
    "        #-------------------------------------------------------\n",
    "        return context, weights # 返回上下文信息和注意力权重"
   ],
   "outputs": [],
   "execution_count": 1
  },
  {
   "metadata": {
    "ExecuteTime": {
     "end_time": "2024-11-26T09:06:55.378482Z",
     "start_time": "2024-11-26T09:06:55.346487Z"
    }
   },
   "cell_type": "code",
   "source": [
    "# 定义多头注意力类\n",
    "d_embedding = 512 # 词嵌入维度\n",
    "n_heads = 8 # 多头注意力个数\n",
    "batch_size = 3 # 批次大小\n",
    "class MultiHeadAttention(nn.Module):\n",
    "    def __init__(self):\n",
    "        super(MultiHeadAttention, self).__init__()\n",
    "        # 确保d_model能被n_heads整除\n",
    "        assert d_embedding % n_heads == 0\n",
    "        self.W_Q = nn.Linear(d_embedding, d_k * n_heads)  # Q的线性变换层\n",
    "        self.W_K = nn.Linear(d_embedding, d_k * n_heads)  # K的线性变换层\n",
    "        self.W_V = nn.Linear(d_embedding, d_v * n_heads)  # V的线性变换层\n",
    "        self.linear = nn.Linear(d_v * n_heads, d_embedding)  # 最后的线性变换层\n",
    "        self.layer_norm = nn.LayerNorm(d_embedding)  # Layer Norm层\n",
    "    def forward(self, Q, K, V, attn_mask):\n",
    "        #----------------------维度信息------------------------\n",
    "        # Q、K、V [batch_size, len_q/k/v, embedding_dim]\n",
    "        #-------------------------------------------------------\n",
    "        residual, batch_size = Q, Q.size(0) # 残差连接\n",
    "        # 将输入进行线性变换和重塑，以便后续处理，[batch_size, len_q/k/v, embedding_dim] -> [batch_size, n_heads, len_q/k/v, d_k/d_v]\n",
    "        q_s = self.W_Q(Q).view(batch_size, -1, n_heads, d_k).transpose(1, 2)  # Q [batch_size, n_heads, len_q, d_k]\n",
    "        k_s = self.W_K(K).view(batch_size, -1, n_heads, d_k).transpose(1, 2)  # K [batch_size, n_heads, len_k, d_k]\n",
    "        v_s = self.W_V(V).view(batch_size, -1, n_heads, d_v).transpose(1, 2)  # V [batch_size, n_heads, len_v, d_v]\n",
    "        # 将注意力掩码复制多到头 attn_mask [batch_size, 1, len_q, len_k] -> [batch_size, n_heads, len_q, len_k]\n",
    "        attn_mask = attn_mask.unsqueeze(1).repeat(1, n_heads, 1, 1)\n",
    "        #----------------------维度信息------------------------\n",
    "        # attn_mask [batch_size, n_heads, len_q, len_k]\n",
    "        #-------------------------------------------------------\n",
    "        # 使用缩放点积注意力计算上下文和注意力权重\n",
    "        context, weights = ScaledDotProductAttention()(q_s, k_s, v_s, attn_mask)\n",
    "        #----------------------维度信息------------------------\n",
    "        # context [batch_size, n_heads, len_q, d_v]\n",
    "        # weights [batch_size, n_heads, len_q, len_k]\n",
    "        #-------------------------------------------------------\n",
    "        # 通过调整维度将多个头的上下文向量连接在一起，[batch_size, n_heads, len_q, d_v] -> [batch_size, len_q, n_heads * d_v]\n",
    "        context = context.transpose(1, 2).contiguous().view(batch_size, -1, n_heads * d_v)\n",
    "        #----------------------维度信息------------------------\n",
    "        # context [batch_size, len_q, n_heads * d_v]\n",
    "        #-------------------------------------------------------\n",
    "        # 用一个线性层把连接后的在多头注意力结果转换，原始地嵌入维度，[batch_size, len_q, n_heads * d_v] -> [batch_size, len_q, embedding_dim]\n",
    "        output = self.linear(context)\n",
    "        #----------------------维度信息------------------------\n",
    "        # output [batch_size, len_q, embedding_dim]\n",
    "        #-------------------------------------------------------\n",
    "        # 与输入(Q)进行残差连接，并进行层归一化后处理\n",
    "        output = self.layer_norm(output + residual)\n",
    "        #----------------------维度信息------------------------\n",
    "        # output [batch_size, len_q, embedding_dim]\n",
    "        #-------------------------------------------------------\n",
    "        return output, weights  # 返回层归一化的输出和和注意力权重"
   ],
   "id": "ad6c53712a2a5e0f",
   "outputs": [],
   "execution_count": 2
  },
  {
   "metadata": {
    "ExecuteTime": {
     "end_time": "2024-11-26T09:07:07.333323Z",
     "start_time": "2024-11-26T09:07:07.314518Z"
    }
   },
   "cell_type": "code",
   "source": [
    "# 定义逐位置前馈网络\n",
    "class PoswiseFeedForwardNet(nn.Module):\n",
    "    def __init__(self, d_ff=2048):\n",
    "        super(PoswiseFeedForwardNet, self).__init__()\n",
    "        # 定义一维卷积层1，用于将输入映射到更高维度\n",
    "        self.conv1 = nn.Conv1d(in_channels=d_embedding, out_channels=d_ff, kernel_size=1)\n",
    "        # 定义一维卷积层2，用于将映射后的向量映射回原始维度\n",
    "        self.conv2 = nn.Conv1d(in_channels=d_ff, out_channels=d_embedding, kernel_size=1)\n",
    "        # 定义层归一化\n",
    "        self.layer_norm = nn.LayerNorm(d_embedding)\n",
    "    def forward(self, inputs):\n",
    "        #----------------------维度信息------------------------\n",
    "        # inputs [batch_size, len_q, embedding_dim]\n",
    "        #-------------------------------------------------------\n",
    "        residual = inputs  # 保留残差连接\n",
    "        # 在第一个卷积层1后使用ReLU函数，[batch_size, len_q, embedding_dim] -> [batch_size, embedding_dim, len_q] -> [batch_size, len_q, d_ff]\n",
    "        output = nn.ReLU()(self.conv1(inputs.transpose(1, 2)))\n",
    "        #----------------------维度信息------------------------\n",
    "        # output [batch_size, d_ff, len_q]\n",
    "        #-------------------------------------------------------\n",
    "        # 使用卷积2进行降维\n",
    "        output = self.conv2(output).transpose(1, 2)\n",
    "        #----------------------维度信息------------------------\n",
    "        # output [batch_size, len_q, embedding_dim]\n",
    "        #-------------------------------------------------------\n",
    "        # 与输入进行残差连接，并进行层归一化\n",
    "        output = self.layer_norm(output + residual)\n",
    "        #----------------------维度信息------------------------\n",
    "        # output [batch_size, len_q, embedding_dim]\n",
    "        #-------------------------------------------------------\n",
    "        return output  # 返回层归一化的输出"
   ],
   "id": "6df325f3f2ea4771",
   "outputs": [],
   "execution_count": 3
  },
  {
   "metadata": {
    "ExecuteTime": {
     "end_time": "2024-11-26T09:07:22.589078Z",
     "start_time": "2024-11-26T09:07:22.582081Z"
    }
   },
   "cell_type": "code",
   "source": [
    "# 定义填充注意力掩码函数\n",
    "def get_attn_pad_mask(seq_q, seq_k):\n",
    "    #----------------------维度信息------------------------\n",
    "    # seq_q的维度是[batch_size, len_q]\n",
    "    # seq_k的维度是[batch_size, len_k]\n",
    "    #-------------------------------------------------------\n",
    "    batch_size, len_q = seq_q.size()\n",
    "    batch_size, len_k = seq_k.size()\n",
    "    # 生成布尔类型张量\n",
    "    pad_attn_mask = seq_k.data.eq(0).unsqueeze(1)  # <PAD>token的编码值为0\n",
    "    #----------------------维度信息------------------------\n",
    "    # pad_attn_mask [batch_size, 1, len_k]\n",
    "    #-------------------------------------------------------\n",
    "    # 变形为与注意力分数相同的张量\n",
    "    pad_attn_mask = pad_attn_mask.expand(batch_size, len_q, len_k)\n",
    "    #----------------------维度信息------------------------\n",
    "    # pad_attn_mask [batch_size, len_q, len_k]\n",
    "    #-------------------------------------------------------\n",
    "    return pad_attn_mask  # 返回注意力掩码张量"
   ],
   "id": "7ed2a3a16b4a8eb6",
   "outputs": [],
   "execution_count": 5
  },
  {
   "metadata": {
    "ExecuteTime": {
     "end_time": "2024-11-26T09:07:51.156041Z",
     "start_time": "2024-11-26T09:07:51.147042Z"
    }
   },
   "cell_type": "code",
   "source": [
    "# 生成后续注意力掩码的函数，用于在多头自注意力计算中忽略未来信息\n",
    "def get_attn_subsequence_mask(seq):\n",
    "    #----------------------维度信息------------------------\n",
    "    # seq的维度是[batch_size, seq_len(Q)=seq_len(K)]\n",
    "    #-------------------------------------------------------\n",
    "    # 获取输入序列的形状\n",
    "    attn_shape = [seq.size(0), seq.size(1), seq.size(1)]\n",
    "    #----------------------维度信息------------------------\n",
    "    # attn_shape [batch_size, seq_len, seq_len]\n",
    "    #-------------------------------------------------------\n",
    "    # 生成一个下三角矩阵\n",
    "    subsequent_mask = np.triu(np.ones(attn_shape), k=1)\n",
    "    #----------------------维度信息------------------------\n",
    "    # subsequent_mask [batch_size, seq_len, seq_len]\n",
    "    #-------------------------------------------------------\n",
    "    # 将numpy数组转换为Tensor，并将其转换为布尔类型\n",
    "    subsequent_mask = torch.from_numpy(subsequent_mask).bool()\n",
    "    #----------------------维度信息------------------------\n",
    "    # subsequent_mask [batch_size, seq_len, seq_len]\n",
    "    #-------------------------------------------------------\n",
    "    return subsequent_mask  # 返回后续注意力掩码张量"
   ],
   "id": "616589fdb3b4eeab",
   "outputs": [],
   "execution_count": 6
  },
  {
   "metadata": {
    "ExecuteTime": {
     "end_time": "2024-11-26T11:22:46.369700Z",
     "start_time": "2024-11-26T11:22:46.357713Z"
    }
   },
   "cell_type": "code",
   "source": [
    "# 定义解码器层类\n",
    "class DecoderLayer(nn.Module):\n",
    "    def __init__(self):\n",
    "        super(DecoderLayer, self).__init__()\n",
    "        self.self_attn = MultiHeadAttention()  # 多头自注意力\n",
    "        self.feed_forward = PoswiseFeedForwardNet()  # 逐位置前馈网络\n",
    "        self.norm1 = nn.LayerNorm(d_embedding)  # 第一个层归一化\n",
    "        self.norm2 = nn.LayerNorm(d_embedding)  # 第二个层归一化\n",
    "    def forward(self, dec_inputs, self_attn_mask=None):\n",
    "        # 使用多头注意力处理输入\n",
    "        dec_outputs, _ = self.self_attn(dec_inputs, dec_inputs, dec_inputs, self_attn_mask)\n",
    "        # 将注意力输出与输入相加并进行第一个层归一化\n",
    "        norm1_outputs = self.norm1(dec_outputs + dec_inputs)\n",
    "        # 将第一个层归一化的输出输入到逐位置前馈网络\n",
    "        ff_outputs = self.feed_forward(norm1_outputs)\n",
    "        # 将前馈网络的输出与第一个层归一化的输出相加并进行第二个层归一化\n",
    "        dec_outputs = self.norm2(ff_outputs + norm1_outputs)\n",
    "        return dec_outputs  # 返回解码器层的输出"
   ],
   "id": "646d14a004950bf4",
   "outputs": [],
   "execution_count": 8
  },
  {
   "metadata": {
    "ExecuteTime": {
     "end_time": "2024-11-26T11:31:42.753338Z",
     "start_time": "2024-11-26T11:31:42.741332Z"
    }
   },
   "cell_type": "code",
   "source": [
    "# 定义解码器类\n",
    "n_layers = 6 # 解码器层数\n",
    "class Decoder(nn.Module):\n",
    "    def __init__(self, vocab_size, max_seq_len):\n",
    "        super(Decoder, self).__init__()\n",
    "        # 词嵌入层（参数为字典维度）\n",
    "        self.src_emb = nn.Embedding(vocab_size, d_embedding)\n",
    "        # 位置编码层 （参数为最大序列长度）\n",
    "        self.pos_emb = nn.Embedding(max_seq_len, d_embedding)\n",
    "        # 初始化N个解码器层\n",
    "        self.layers = nn.ModuleList([DecoderLayer() for _ in range(n_layers)])\n",
    "    def forward(self, dec_inputs):\n",
    "        # 创建位置信息\n",
    "        positions = torch.arange(len(dec_inputs), device=dec_inputs.device).unsqueeze(-1)  # [seq_len, 1]\n",
    "        # 将输入序列的词嵌入和位置编码相加\n",
    "        inputs_embedding = self.src_emb(dec_inputs) + self.pos_emb(positions)\n",
    "        # 生成解码器自注意力掩码\n",
    "        attn_mask = get_attn_subsequence_mask(inputs_embedding).to(device)\n",
    "        # 初始化解码器输入，这是第一个解码器层的输入\n",
    "        dec_outputs = inputs_embedding\n",
    "        for layer in self.layers:\n",
    "            # 逐层调用解码器层\n",
    "            dec_outputs = layer(dec_outputs, attn_mask)\n",
    "        return dec_outputs  # 返回解码器的输出"
   ],
   "id": "a6b94b64f6d94d5e",
   "outputs": [],
   "execution_count": 10
  },
  {
   "metadata": {
    "ExecuteTime": {
     "end_time": "2024-11-26T11:37:35.209352Z",
     "start_time": "2024-11-26T11:37:35.203351Z"
    }
   },
   "cell_type": "code",
   "source": [
    "# 定义GPT模型\n",
    "class GPT(nn.Module):\n",
    "    def __init__(self, vocab_size, max_seq_len):\n",
    "        super(GPT, self).__init__()\n",
    "        self.decoder = Decoder(vocab_size, max_seq_len)  # 解码器，用于学习文本生成能力\n",
    "        self.projection = nn.Linear(d_embedding, vocab_size, bias=False)  # 全连接层，输出预测成果\n",
    "    def forward(self, dec_inputs):\n",
    "        # 通过解码器获取输出\n",
    "        dec_outputs = self.decoder(dec_inputs)\n",
    "        # 通过全连接层获取预测结果\n",
    "        dec_logits = self.projection(dec_outputs)\n",
    "        return dec_logits"
   ],
   "id": "a555aa992ba89627",
   "outputs": [],
   "execution_count": 11
  },
  {
   "metadata": {
    "ExecuteTime": {
     "end_time": "2024-11-26T12:14:38.535914Z",
     "start_time": "2024-11-26T12:14:38.521503Z"
    }
   },
   "cell_type": "code",
   "source": [
    "# 构建语料库\n",
    "from collections import Counter\n",
    "class LanguageCorpus:\n",
    "    def __init__(self, sentences):\n",
    "        self.sentences = sentences\n",
    "        # 计算语言的最大句子长度，并加2以容纳特殊符号<sos>和<eos>\n",
    "        self.seq_len = max([len(sentences.split()) for sentences in sentences]) + 2  # seq_len是最长句子长度+2，为了容纳<sos>和<eos>\n",
    "        self.vocab = self.create_vocabulary()  # 创建源语言和目标语言的词汇表\n",
    "        self.idx2word = {v: k for k, v in self.vocab.items()}  # 索引到单词的映射\n",
    "    def create_vocabulary(self):\n",
    "        vocab = {'<pad>': 0, '<sos>': 1, '<eos>': 2}\n",
    "        counter = Counter()\n",
    "        # 统计语料库的代码频率\n",
    "        for sentence in self.sentences:\n",
    "            counter.update(sentence.split())\n",
    "        # 创建词汇表，并为每个单词分配一个唯一的索引\n",
    "        for word in counter:\n",
    "            if word not in vocab:\n",
    "                vocab[word] = len(vocab)\n",
    "        return vocab\n",
    "    def make_batch(self, batch_size, test_batch=False):\n",
    "        input_batch, out_batch = [], []  # 输入和输出批次\n",
    "        sentence_indices = torch.randperm(len(self.sentences))[:batch_size]  # 生成随即索引，个数为batch_size，最大为len(self.sentences)\n",
    "        for idx in sentence_indices:\n",
    "            sentence = self.sentences[idx]\n",
    "            # 将句子转化为索引序列\n",
    "            seq = [self.vocab['<sos>']] + [self.vocab[word] for word in sentence.split()] + [self.vocab['<eos>']]\n",
    "            seq += [self.vocab['<pad>']] * (self.seq_len - len(seq))  # 填充序列\n",
    "            # 将处理好的序列添加到批次中\n",
    "            input_batch.append(seq[:-1])  # 输入序列不包括<eos>\n",
    "            out_batch.append(seq[1:])  # 输出序列不包括<sos>\n",
    "        return torch.LongTensor(input_batch), torch.LongTensor(out_batch)"
   ],
   "id": "30b85256f5ecb653",
   "outputs": [],
   "execution_count": 13
  },
  {
   "metadata": {
    "ExecuteTime": {
     "end_time": "2024-11-26T13:15:07.283910Z",
     "start_time": "2024-11-26T13:15:07.273918Z"
    }
   },
   "cell_type": "code",
   "source": [
    "# 显式语料库信息\n",
    "with open(\"lang.txt\", \"r\") as files:  # 从文件中读入语料\n",
    "    sentences = [line.strip() for line in files]\n",
    "corpus = LanguageCorpus(sentences)  # 创建语料库对象\n",
    "vocab_size = len(corpus.vocab)  # 词汇表大小\n",
    "max_seq_len = corpus.seq_len  # 最大句子长度（用于设置位置编码）\n",
    "print(f\"语料库词汇表大小： {vocab_size}\")  # 打印词汇表大小\n",
    "print(f\"最大句子长度： {max_seq_len}\")  # 打印最大句子长度"
   ],
   "id": "f816ec4afb9f750b",
   "outputs": [
    {
     "name": "stdout",
     "output_type": "stream",
     "text": [
      "语料库词汇表大小： 133\n",
      "最大句子长度： 17\n"
     ]
    }
   ],
   "execution_count": 31
  },
  {
   "metadata": {
    "ExecuteTime": {
     "end_time": "2024-11-26T12:50:05.160519Z",
     "start_time": "2024-11-26T12:49:34.681612Z"
    }
   },
   "cell_type": "code",
   "source": [
    "import torch.optim as optim\n",
    "device = \"cuda\" if torch.cuda.is_available() else \"cpu\"  # 设置设备\n",
    "model = GPT(vocab_size, max_seq_len).to(device)  # 创建GPT模型\n",
    "criterion = nn.CrossEntropyLoss()  # 交叉熵损失函数\n",
    "optimizer = optim.Adam(model.parameters(), lr=0.0001)  # Adam优化器\n",
    "epochs = 500\n",
    "for epoch in range(epochs):\n",
    "    optimizer.zero_grad()  # 梯度清零\n",
    "    input_batch, target_batch = corpus.make_batch(batch_size)  # 生成输入和输出批次\n",
    "    input_batch, target_batch = input_batch.to(device), target_batch.to(device)  # 数据移动到设备\n",
    "    outputs = model(input_batch)  # 前向传播\n",
    "    loss = criterion(outputs.view(-1, vocab_size), target_batch.view(-1))  # 计算损失\n",
    "    if (epoch + 1) % 100 == 0:\n",
    "        print(f\"Epoch [{epoch+1}/{epochs}], Loss: {loss.item()}\")\n",
    "    loss.backward()  # 反向传播\n",
    "    optimizer.step()  # 更新参数"
   ],
   "id": "bedcad5f53ee371e",
   "outputs": [
    {
     "name": "stdout",
     "output_type": "stream",
     "text": [
      "Epoch [100/500], Loss: 0.5027474761009216\n",
      "Epoch [200/500], Loss: 0.25911128520965576\n",
      "Epoch [300/500], Loss: 0.2140609622001648\n",
      "Epoch [400/500], Loss: 0.2459731101989746\n",
      "Epoch [500/500], Loss: 0.2189064770936966\n"
     ]
    }
   ],
   "execution_count": 19
  },
  {
   "metadata": {
    "ExecuteTime": {
     "end_time": "2024-11-26T13:06:07.395303Z",
     "start_time": "2024-11-26T13:06:07.202076Z"
    }
   },
   "cell_type": "code",
   "source": [
    "# 测试文本生成\n",
    "def generate_text(model, input_str, max_len=50):\n",
    "    model.eval()  # 设置为评估模式，关闭dropout和batch normalization等训练相关层\n",
    "    # 将输入字符串中的每个token转换为其在词汇表中的索引\n",
    "    input_tokens = [corpus.vocab[token] for token in input_str]\n",
    "    # 创建一个新列表，将输入的token复制到输出tokens中，目前只需要输入词\n",
    "    output_tokens = input_tokens.copy()\n",
    "    with torch.no_grad():  # 禁用梯度计算，以节省内存并加快计算速度\n",
    "        for _ in range(max_len):\n",
    "            # 将输出的token转换为张量，并添加一个批次维度 [1, len(output_tokens)]\n",
    "            inputs = torch.LongTensor(output_tokens).unsqueeze(0).to(device)\n",
    "            outputs = model(inputs)  # 输出logits形状为 [1, len(output_tokens), vocab_size]\n",
    "            # 在最后一个维度上获取logits中的最大值，并返回索引（即下一个token）\n",
    "            next_token = outputs.argmax(-1)[:, -1].item()\n",
    "            if next_token == corpus.vocab['<eos>']:\n",
    "                break  # 如果生成的token是<eos>，则停止生成\n",
    "            output_tokens.append(next_token)  # 将生成的token添加到输出tokens中\n",
    "    # 将输出tokens转换回字符串\n",
    "    output_str = ' '.join([corpus.idx2word[token] for token in output_tokens])\n",
    "    return output_str\n",
    "\n",
    "input_str = [\"Python\"]\n",
    "generated_text = generate_text(model, input_str)  # 生成文本\n",
    "print(f\"输入: {input_str[0]}\")\n",
    "print(f\"生成: {generated_text}\")"
   ],
   "id": "efdec5437c59909f",
   "outputs": [
    {
     "name": "stdout",
     "output_type": "stream",
     "text": [
      "输入: Python\n",
      "生成: Python is a popular programming language.\n"
     ]
    }
   ],
   "execution_count": 21
  },
  {
   "metadata": {},
   "cell_type": "code",
   "outputs": [],
   "execution_count": null,
   "source": "",
   "id": "7344f2a8c4604932"
  }
 ],
 "metadata": {
  "kernelspec": {
   "display_name": "Python 3",
   "language": "python",
   "name": "python3"
  },
  "language_info": {
   "codemirror_mode": {
    "name": "ipython",
    "version": 2
   },
   "file_extension": ".py",
   "mimetype": "text/x-python",
   "name": "python",
   "nbconvert_exporter": "python",
   "pygments_lexer": "ipython2",
   "version": "2.7.6"
  }
 },
 "nbformat": 4,
 "nbformat_minor": 5
}
