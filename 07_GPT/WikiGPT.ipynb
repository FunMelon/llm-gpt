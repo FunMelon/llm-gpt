{
 "cells": [
  {
   "metadata": {
    "ExecuteTime": {
     "end_time": "2024-11-27T06:49:07.442061Z",
     "start_time": "2024-11-27T06:49:07.420059Z"
    }
   },
   "cell_type": "code",
   "source": [
    "import numpy as np\n",
    "import torch\n",
    "import torch.nn as nn\n",
    "from torch.cuda import device\n",
    "\n",
    "d_k = 64 # K（=Q）维度\n",
    "d_v = 64 # V维度\n",
    "# 定义缩放点积注意力类\n",
    "class ScaledDotProductAttention(nn.Module):\n",
    "    def __init__(self):\n",
    "        super(ScaledDotProductAttention, self).__init__()\n",
    "    def forward(self, Q, K, V, attn_mask):\n",
    "        #----------------------维度信息------------------------\n",
    "        # Q、K、V [batch_size, n_heads, len_q/k/v, dim_k/v] (dim_q=dim_k)\n",
    "        # attn_mask [batch_size, n_heads, len_q, len_k]\n",
    "        #-------------------------------------------------------\n",
    "        # 计算注意力分数（原始权重）[batch_size, n_heads, len_q, dim_q] * [batch_size, n_heads, dim_k, len_q] = [batch_size, n_heads, len_q, len_k]\n",
    "        scores = torch.matmul(Q, K.transpose(-1, -2)) / np.sqrt(d_k)\n",
    "        #----------------------维度信息------------------------\n",
    "        # scores [batch_size, n_heads, len_q, len_k]\n",
    "        #-------------------------------------------------------\n",
    "        # 使用注意力掩码，将attn_mask中值为1的位置的权重替换为极小值\n",
    "        #----------------------维度信息------------------------\n",
    "        # attn_mask [batch_size, n_heads, len_q, len_k]\n",
    "        #-------------------------------------------------------\n",
    "        scores.masked_fill_(attn_mask, -1e9)\n",
    "        # 用softmax函数对scores进行归一化，得到注意力权重\n",
    "        weights = nn.Softmax(dim=-1)(scores)  # 创建了一个指定最后一个维度的softmax层，并对scores进行softmax操作\n",
    "        #----------------------维度信息------------------------\n",
    "        # weights [batch_size, n_heads, len_q, len_k]\n",
    "        #-------------------------------------------------------\n",
    "        # 计算上下文向量（也就是注意力值），是上下文信息的紧凑表示 [batch_size, n_heads, len_q, len_k] * [batch_size, n_heads, len_k, dim_v] = [batch_size, n_heads, len_q, dim_v]\n",
    "        context = torch.matmul(weights, V)\n",
    "        #----------------------维度信息------------------------\n",
    "        # context [batch_size, n_heads, len_q, dim_v]\n",
    "        #-------------------------------------------------------\n",
    "        return context, weights # 返回上下文信息和注意力权重"
   ],
   "id": "8f5f084f1d4fd1d9",
   "outputs": [],
   "execution_count": 2
  },
  {
   "metadata": {
    "ExecuteTime": {
     "end_time": "2024-11-27T06:49:07.473594Z",
     "start_time": "2024-11-27T06:49:07.456070Z"
    }
   },
   "cell_type": "code",
   "source": [
    "# 定义多头注意力类\n",
    "d_embedding = 512 # 词嵌入维度\n",
    "n_heads = 8 # 多头注意力个数\n",
    "batch_size = 3 # 批次大小\n",
    "class MultiHeadAttention(nn.Module):\n",
    "    def __init__(self):\n",
    "        super(MultiHeadAttention, self).__init__()\n",
    "        # 确保d_model能被n_heads整除\n",
    "        assert d_embedding % n_heads == 0\n",
    "        self.W_Q = nn.Linear(d_embedding, d_k * n_heads)  # Q的线性变换层\n",
    "        self.W_K = nn.Linear(d_embedding, d_k * n_heads)  # K的线性变换层\n",
    "        self.W_V = nn.Linear(d_embedding, d_v * n_heads)  # V的线性变换层\n",
    "        self.linear = nn.Linear(d_v * n_heads, d_embedding)  # 最后的线性变换层\n",
    "        self.layer_norm = nn.LayerNorm(d_embedding)  # Layer Norm层\n",
    "    def forward(self, Q, K, V, attn_mask):\n",
    "        #----------------------维度信息------------------------\n",
    "        # Q、K、V [batch_size, len_q/k/v, embedding_dim]\n",
    "        #-------------------------------------------------------\n",
    "        residual, batch_size = Q, Q.size(0) # 残差连接\n",
    "        # 将输入进行线性变换和重塑，以便后续处理，[batch_size, len_q/k/v, embedding_dim] -> [batch_size, n_heads, len_q/k/v, d_k/d_v]\n",
    "        q_s = self.W_Q(Q).view(batch_size, -1, n_heads, d_k).transpose(1, 2)  # Q [batch_size, n_heads, len_q, d_k]\n",
    "        k_s = self.W_K(K).view(batch_size, -1, n_heads, d_k).transpose(1, 2)  # K [batch_size, n_heads, len_k, d_k]\n",
    "        v_s = self.W_V(V).view(batch_size, -1, n_heads, d_v).transpose(1, 2)  # V [batch_size, n_heads, len_v, d_v]\n",
    "        # 将注意力掩码复制多到头 attn_mask [batch_size, 1, len_q, len_k] -> [batch_size, n_heads, len_q, len_k]\n",
    "        attn_mask = attn_mask.unsqueeze(1).repeat(1, n_heads, 1, 1)\n",
    "        #----------------------维度信息------------------------\n",
    "        # attn_mask [batch_size, n_heads, len_q, len_k]\n",
    "        #-------------------------------------------------------\n",
    "        # 使用缩放点积注意力计算上下文和注意力权重\n",
    "        context, weights = ScaledDotProductAttention()(q_s, k_s, v_s, attn_mask)\n",
    "        #----------------------维度信息------------------------\n",
    "        # context [batch_size, n_heads, len_q, d_v]\n",
    "        # weights [batch_size, n_heads, len_q, len_k]\n",
    "        #-------------------------------------------------------\n",
    "        # 通过调整维度将多个头的上下文向量连接在一起，[batch_size, n_heads, len_q, d_v] -> [batch_size, len_q, n_heads * d_v]\n",
    "        context = context.transpose(1, 2).contiguous().view(batch_size, -1, n_heads * d_v)\n",
    "        #----------------------维度信息------------------------\n",
    "        # context [batch_size, len_q, n_heads * d_v]\n",
    "        #-------------------------------------------------------\n",
    "        # 用一个线性层把连接后的在多头注意力结果转换，原始地嵌入维度，[batch_size, len_q, n_heads * d_v] -> [batch_size, len_q, embedding_dim]\n",
    "        output = self.linear(context)\n",
    "        #----------------------维度信息------------------------\n",
    "        # output [batch_size, len_q, embedding_dim]\n",
    "        #-------------------------------------------------------\n",
    "        # 与输入(Q)进行残差连接，并进行层归一化后处理\n",
    "        output = self.layer_norm(output + residual)\n",
    "        #----------------------维度信息------------------------\n",
    "        # output [batch_size, len_q, embedding_dim]\n",
    "        #-------------------------------------------------------\n",
    "        return output, weights  # 返回层归一化的输出和和注意力权重"
   ],
   "id": "62ab8d76d7d7a4f0",
   "outputs": [],
   "execution_count": 3
  },
  {
   "metadata": {
    "ExecuteTime": {
     "end_time": "2024-11-27T06:49:07.537595Z",
     "start_time": "2024-11-27T06:49:07.507595Z"
    }
   },
   "cell_type": "code",
   "source": [
    "# 定义逐位置前馈网络\n",
    "class PoswiseFeedForwardNet(nn.Module):\n",
    "    def __init__(self, d_ff=2048):\n",
    "        super(PoswiseFeedForwardNet, self).__init__()\n",
    "        # 定义一维卷积层1，用于将输入映射到更高维度\n",
    "        self.conv1 = nn.Conv1d(in_channels=d_embedding, out_channels=d_ff, kernel_size=1)\n",
    "        # 定义一维卷积层2，用于将映射后的向量映射回原始维度\n",
    "        self.conv2 = nn.Conv1d(in_channels=d_ff, out_channels=d_embedding, kernel_size=1)\n",
    "        # 定义层归一化\n",
    "        self.layer_norm = nn.LayerNorm(d_embedding)\n",
    "    def forward(self, inputs):\n",
    "        #----------------------维度信息------------------------\n",
    "        # inputs [batch_size, len_q, embedding_dim]\n",
    "        #-------------------------------------------------------\n",
    "        residual = inputs  # 保留残差连接\n",
    "        # 在第一个卷积层1后使用ReLU函数，[batch_size, len_q, embedding_dim] -> [batch_size, embedding_dim, len_q] -> [batch_size, len_q, d_ff]\n",
    "        output = nn.ReLU()(self.conv1(inputs.transpose(1, 2)))\n",
    "        #----------------------维度信息------------------------\n",
    "        # output [batch_size, d_ff, len_q]\n",
    "        #-------------------------------------------------------\n",
    "        # 使用卷积2进行降维\n",
    "        output = self.conv2(output).transpose(1, 2)\n",
    "        #----------------------维度信息------------------------\n",
    "        # output [batch_size, len_q, embedding_dim]\n",
    "        #-------------------------------------------------------\n",
    "        # 与输入进行残差连接，并进行层归一化\n",
    "        output = self.layer_norm(output + residual)\n",
    "        #----------------------维度信息------------------------\n",
    "        # output [batch_size, len_q, embedding_dim]\n",
    "        #-------------------------------------------------------\n",
    "        return output  # 返回层归一化的输出"
   ],
   "id": "5ca02c455e2de5fb",
   "outputs": [],
   "execution_count": 4
  },
  {
   "metadata": {
    "ExecuteTime": {
     "end_time": "2024-11-27T06:49:07.568310Z",
     "start_time": "2024-11-27T06:49:07.555793Z"
    }
   },
   "cell_type": "code",
   "source": [
    "# 定义填充注意力掩码函数\n",
    "def get_attn_pad_mask(seq_q, seq_k):\n",
    "    #----------------------维度信息------------------------\n",
    "    # seq_q的维度是[batch_size, len_q]\n",
    "    # seq_k的维度是[batch_size, len_k]\n",
    "    #-------------------------------------------------------\n",
    "    batch_size, len_q = seq_q.size()\n",
    "    batch_size, len_k = seq_k.size()\n",
    "    # 生成布尔类型张量\n",
    "    pad_attn_mask = seq_k.data.eq(0).unsqueeze(1)  # <PAD>token的编码值为0\n",
    "    #----------------------维度信息------------------------\n",
    "    # pad_attn_mask [batch_size, 1, len_k]\n",
    "    #-------------------------------------------------------\n",
    "    # 变形为与注意力分数相同的张量\n",
    "    pad_attn_mask = pad_attn_mask.expand(batch_size, len_q, len_k)\n",
    "    #----------------------维度信息------------------------\n",
    "    # pad_attn_mask [batch_size, len_q, len_k]\n",
    "    #-------------------------------------------------------\n",
    "    return pad_attn_mask  # 返回注意力掩码张量"
   ],
   "id": "fc06060af72d9763",
   "outputs": [],
   "execution_count": 5
  },
  {
   "metadata": {
    "ExecuteTime": {
     "end_time": "2024-11-27T06:49:07.600307Z",
     "start_time": "2024-11-27T06:49:07.587310Z"
    }
   },
   "cell_type": "code",
   "source": [
    "# 生成后续注意力掩码的函数，用于在多头自注意力计算中忽略未来信息\n",
    "def get_attn_subsequence_mask(seq):\n",
    "    #----------------------维度信息------------------------\n",
    "    # seq的维度是[batch_size, seq_len(Q)=seq_len(K)]\n",
    "    #-------------------------------------------------------\n",
    "    # 获取输入序列的形状\n",
    "    attn_shape = [seq.size(0), seq.size(1), seq.size(1)]\n",
    "    #----------------------维度信息------------------------\n",
    "    # attn_shape [batch_size, seq_len, seq_len]\n",
    "    #-------------------------------------------------------\n",
    "    # 生成一个下三角矩阵\n",
    "    subsequent_mask = np.triu(np.ones(attn_shape), k=1)\n",
    "    #----------------------维度信息------------------------\n",
    "    # subsequent_mask [batch_size, seq_len, seq_len]\n",
    "    #-------------------------------------------------------\n",
    "    # 将numpy数组转换为Tensor，并将其转换为布尔类型\n",
    "    subsequent_mask = torch.from_numpy(subsequent_mask).bool()\n",
    "    #----------------------维度信息------------------------\n",
    "    # subsequent_mask [batch_size, seq_len, seq_len]\n",
    "    #-------------------------------------------------------\n",
    "    return subsequent_mask  # 返回后续注意力掩码张量"
   ],
   "id": "a15217f60499f1fa",
   "outputs": [],
   "execution_count": 6
  },
  {
   "metadata": {
    "ExecuteTime": {
     "end_time": "2024-11-27T06:49:07.632308Z",
     "start_time": "2024-11-27T06:49:07.619311Z"
    }
   },
   "cell_type": "code",
   "source": [
    "# 定义解码器层类\n",
    "class DecoderLayer(nn.Module):\n",
    "    def __init__(self):\n",
    "        super(DecoderLayer, self).__init__()\n",
    "        self.self_attn = MultiHeadAttention()  # 多头自注意力\n",
    "        self.feed_forward = PoswiseFeedForwardNet()  # 逐位置前馈网络\n",
    "        self.norm1 = nn.LayerNorm(d_embedding)  # 第一个层归一化\n",
    "        self.norm2 = nn.LayerNorm(d_embedding)  # 第二个层归一化\n",
    "    def forward(self, dec_inputs, self_attn_mask=None):\n",
    "        # 使用多头注意力处理输入\n",
    "        dec_outputs, _ = self.self_attn(dec_inputs, dec_inputs, dec_inputs, self_attn_mask)\n",
    "        # 将注意力输出与输入相加并进行第一个层归一化\n",
    "        norm1_outputs = self.norm1(dec_outputs + dec_inputs)\n",
    "        # 将第一个层归一化的输出输入到逐位置前馈网络\n",
    "        ff_outputs = self.feed_forward(norm1_outputs)\n",
    "        # 将前馈网络的输出与第一个层归一化的输出相加并进行第二个层归一化\n",
    "        dec_outputs = self.norm2(ff_outputs + norm1_outputs)\n",
    "        return dec_outputs  # 返回解码器层的输出"
   ],
   "id": "ff90fe570d202d0f",
   "outputs": [],
   "execution_count": 7
  },
  {
   "metadata": {
    "ExecuteTime": {
     "end_time": "2024-11-27T06:49:07.679835Z",
     "start_time": "2024-11-27T06:49:07.650310Z"
    }
   },
   "cell_type": "code",
   "source": [
    "# 定义解码器类\n",
    "n_layers = 6 # 解码器层数\n",
    "class Decoder(nn.Module):\n",
    "    def __init__(self, vocab_size, max_seq_len):\n",
    "        super(Decoder, self).__init__()\n",
    "        # 词嵌入层（参数为字典维度）\n",
    "        self.src_emb = nn.Embedding(vocab_size, d_embedding)\n",
    "        # 位置编码层 （参数为最大序列长度）\n",
    "        self.pos_emb = nn.Embedding(max_seq_len, d_embedding)\n",
    "        # 初始化N个解码器层\n",
    "        self.layers = nn.ModuleList([DecoderLayer() for _ in range(n_layers)])\n",
    "    def forward(self, dec_inputs):\n",
    "        # 创建位置信息\n",
    "        positions = torch.arange(len(dec_inputs), device=dec_inputs.device).unsqueeze(-1)  # [seq_len, 1]\n",
    "        # 将输入序列的词嵌入和位置编码相加\n",
    "        inputs_embedding = self.src_emb(dec_inputs) + self.pos_emb(positions)\n",
    "        # 生成解码器自注意力掩码\n",
    "        attn_mask = get_attn_subsequence_mask(inputs_embedding).to(device)\n",
    "        # 初始化解码器输入，这是第一个解码器层的输入\n",
    "        dec_outputs = inputs_embedding\n",
    "        for layer in self.layers:\n",
    "            # 逐层调用解码器层\n",
    "            dec_outputs = layer(dec_outputs, attn_mask)\n",
    "        return dec_outputs  # 返回解码器的输出"
   ],
   "id": "3f07fff6aa4ada55",
   "outputs": [],
   "execution_count": 8
  },
  {
   "metadata": {
    "ExecuteTime": {
     "end_time": "2024-11-27T06:49:07.711838Z",
     "start_time": "2024-11-27T06:49:07.698836Z"
    }
   },
   "cell_type": "code",
   "source": [
    "# 定义GPT模型\n",
    "class GPT(nn.Module):\n",
    "    def __init__(self, vocab_size, max_seq_len):\n",
    "        super(GPT, self).__init__()\n",
    "        self.decoder = Decoder(vocab_size, max_seq_len)  # 解码器，用于学习文本生成能力\n",
    "        self.projection = nn.Linear(d_embedding, vocab_size, bias=False)  # 全连接层，输出预测成果\n",
    "    def forward(self, dec_inputs):\n",
    "        # 通过解码器获取输出\n",
    "        dec_outputs = self.decoder(dec_inputs)\n",
    "        # 通过全连接层获取预测结果\n",
    "        dec_logits = self.projection(dec_outputs)\n",
    "        return dec_logits"
   ],
   "id": "2d41884f4490103b",
   "outputs": [],
   "execution_count": 9
  },
  {
   "metadata": {
    "ExecuteTime": {
     "end_time": "2024-11-27T06:51:41.300412Z",
     "start_time": "2024-11-27T06:51:38.111600Z"
    }
   },
   "cell_type": "code",
   "source": [
    "from torchtext.datasets import WikiText2\n",
    "from torchtext.data.utils import get_tokenizer\n",
    "from torchtext.vocab import build_vocab_from_iterator\n",
    "\n",
    "tokenizer = get_tokenizer('basic_english')\n",
    "train_iter = WikiText2(split='train', root='.')\n",
    "valid_iter = WikiText2(split='valid', root='.')\n",
    "vocab = build_vocab_from_iterator(map(tokenizer, train_iter), specials=['<pad>', '<sos>', '<eos>'])\n",
    "vocab.set_default_index(vocab['<pad>'])\n",
    "# 打印词汇表信息\n",
    "print(\"词汇表大小:\", len(vocab))\n",
    "print(\"词汇示例(word to index):\", \n",
    "      {word: vocab[word] for word in [\"<pad>\", \"<sos>\", \"<eos>\", \"the\", \"apple\"]})"
   ],
   "id": "8f678a8774618af0",
   "outputs": [
    {
     "name": "stdout",
     "output_type": "stream",
     "text": [
      "词汇表大小: 28785\n",
      "词汇示例(word to index): {'<pad>': 0, '<sos>': 1, '<eos>': 2, 'the': 3, 'apple': 11505}\n"
     ]
    }
   ],
   "execution_count": 11
  },
  {
   "metadata": {
    "ExecuteTime": {
     "end_time": "2024-11-27T06:51:45.416338Z",
     "start_time": "2024-11-27T06:51:43.064099Z"
    }
   },
   "cell_type": "code",
   "source": [
    "from torch.utils.data import Dataset # 导入Dataset\n",
    "max_seq_len = 256 # 设置序列的最大长度\n",
    "\n",
    "# 定义一个处理WikiText2数据集的自定义数据集类\n",
    "class WikiDataset(Dataset):\n",
    "    def __init__(self, data_iter, vocab, max_len=max_seq_len):\n",
    "        self.data = []        \n",
    "        for sentence in data_iter: # 遍历数据集，将文本转换为tokens\n",
    "            # 对每个句子进行tokenization，并截取长度为max_len-2，为<sos>和<eos>留出空间\n",
    "            tokens = tokenizer(sentence)[:max_len - 2]\n",
    "            tokens = [vocab[\"<sos>\"]] + vocab(tokens) + [vocab[\"<eos>\"]] # 添加<sos>和<eos>            \n",
    "            self.data.append(tokens) # 将处理好的tokens添加到数据集中\n",
    "    \n",
    "    def __len__(self): # 定义数据集的长度\n",
    "        return len(self.data)    \n",
    "    \n",
    "    def __getitem__(self, idx): # 定义数据集的索引方法 (即抽取数据条目)        \n",
    "        source = self.data[idx][:-1] # 获取当前数据，并将<eos>移除，作为source        \n",
    "        target = self.data[idx][1:] # 获取当前数据，并将<sos>移除，作为target（右移1位）       \n",
    "        return torch.tensor(source), torch.tensor(target) # 转换为tensor并返回\n",
    "\n",
    "train_dataset = WikiDataset(train_iter, vocab) # 创建训练数据集\n",
    "valid_dataset = WikiDataset(valid_iter, vocab) # 创建验证数据集\n",
    "print(f\"Dataset数据条目: {len(train_dataset)}\")\n",
    "sample_source, sample_target = train_dataset[100]\n",
    "print(f\"输入序列张量样例: {sample_source}\")\n",
    "print(f\"目标序列张量样例: {sample_target}\")\n",
    "decoded_source = ' '.join(vocab.lookup_tokens(sample_source.tolist()))\n",
    "decoded_target = ' '.join(vocab.lookup_tokens(sample_target.tolist()))\n",
    "print(f\"输入序列样例文本: {decoded_source}\")\n",
    "print(f\"目标序列样例文本: {decoded_target}\")"
   ],
   "id": "40e08e93045643d7",
   "outputs": [
    {
     "name": "stdout",
     "output_type": "stream",
     "text": [
      "Dataset数据条目: 36718\n",
      "输入序列张量样例: tensor([    1,  2659,  3478, 17569,  9098])\n",
      "目标序列张量样例: tensor([ 2659,  3478, 17569,  9098,     2])\n",
      "输入序列样例文本: <sos> 96 ammunition packing boxes\n",
      "目标序列样例文本: 96 ammunition packing boxes <eos>\n"
     ]
    }
   ],
   "execution_count": 12
  },
  {
   "metadata": {
    "ExecuteTime": {
     "end_time": "2024-11-27T06:51:46.902593Z",
     "start_time": "2024-11-27T06:51:46.881532Z"
    }
   },
   "cell_type": "code",
   "source": [
    "from torch.utils.data import DataLoader # 导入DataLoader\n",
    "# 定义pad_sequence函数，用于将一批序列填充到相同长度\n",
    "def pad_sequence(sequences, padding_value=0, length=None):\n",
    "    # 获取每个序列的长度，如果没有指定长度，则使用最长序列的长度\n",
    "    max_size = length if length is not None else max([len(seq) for seq in sequences])\n",
    "    # 将每个序列填充到相同长度\n",
    "    return [torch.cat([seq, torch.tensor([padding_value] * (max_size - len(seq)))]) for seq in sequences]\n",
    "\n",
    "# 定义collate_fn函数，用于将一批数据转换为模型的输入和目标\n",
    "def collate_fn(batch):\n",
    "    # 从批次中分离源序列和目标序列\n",
    "    sources, targets = zip(*batch)  # 将源序列和目标序列分离\n",
    "    # 计算批次中的最大序列长度\n",
    "    max_len = max(max(len(s) for s in sources), max(len(t) for t in targets))\n",
    "    # 将源序列和目标序列填充到相同长度\n",
    "    sources = pad_sequence(sources, vocab[\"<pad>\"], max_len)\n",
    "    targets = pad_sequence(targets, vocab[\"<pad>\"], max_len)\n",
    "    return torch.stack(sources), torch.stack(targets) # 返回模型的输入和目标\n",
    "\n",
    "# 创建一个训练数据加载器，用于加载训练数据\n",
    "train_loader = DataLoader(train_dataset, batch_size=batch_size, shuffle=True, collate_fn=collate_fn)"
   ],
   "id": "93a802749a14beba",
   "outputs": [],
   "execution_count": 13
  },
  {
   "metadata": {
    "ExecuteTime": {
     "end_time": "2024-11-27T07:25:46.304988Z",
     "start_time": "2024-11-27T06:53:45.423075Z"
    }
   },
   "cell_type": "code",
   "source": [
    "import torch.optim as optim # 导入优化器\n",
    "device = torch.device(\"cuda\" if torch.cuda.is_available() else \"cpu\") # 设置设备\n",
    "model = GPT(len(vocab), max_seq_len).to(device) # 创建模型并移动到设备\n",
    "criterion = nn.CrossEntropyLoss(ignore_index=vocab[\"<pad>\"]) # 创建交叉熵损失函数，忽略填充标记\n",
    "optimizer = optim.Adam(model.parameters(), lr=0.0001) # 创建Adam优化器\n",
    "epochs = 2 # 设置训练轮数\n",
    "\n",
    "for epoch in range(epochs):\n",
    "    epoch_loss = 0\n",
    "    for batch_idx, (source, target) in enumerate(train_loader):  # 遍历训练数据加载器\n",
    "        inputs, targets = source.long().to(device), target.long().to(device)  # 将输入和目标移动到设备\n",
    "        optimizer.zero_grad()  # 梯度清零\n",
    "        outputs = model(inputs)  # 通过模型获取输出\n",
    "        loss = criterion(outputs.view(-1, len(vocab)), targets.view(-1))  # 计算损失\n",
    "        loss.backward()  # 反向传播\n",
    "        optimizer.step()  # 更新参数\n",
    "        epoch_loss += loss.item()  # 累加损失\n",
    "        if batch_idx % 1000 == 0:  # 每1000个批次打印一次损失\n",
    "            print(f\"Epoch {epoch + 1}, Batch {batch_idx}, Loss {loss.item()}\")\n",
    "    print(f\"Epoch {epoch + 1}, Loss {epoch_loss / len(train_loader)}\")  # 打印每轮的平均损失"
   ],
   "id": "2f053100af8e0f38",
   "outputs": [
    {
     "name": "stdout",
     "output_type": "stream",
     "text": [
      "Epoch 1, Batch 0, Loss 10.579670906066895\n",
      "Epoch 1, Batch 1000, Loss 5.491331100463867\n",
      "Epoch 1, Batch 2000, Loss 6.553027629852295\n"
     ]
    },
    {
     "ename": "KeyboardInterrupt",
     "evalue": "",
     "output_type": "error",
     "traceback": [
      "\u001B[1;31m---------------------------------------------------------------------------\u001B[0m",
      "\u001B[1;31mKeyboardInterrupt\u001B[0m                         Traceback (most recent call last)",
      "Cell \u001B[1;32mIn[15], line 16\u001B[0m\n\u001B[0;32m     14\u001B[0m loss \u001B[38;5;241m=\u001B[39m criterion(outputs\u001B[38;5;241m.\u001B[39mview(\u001B[38;5;241m-\u001B[39m\u001B[38;5;241m1\u001B[39m, \u001B[38;5;28mlen\u001B[39m(vocab)), targets\u001B[38;5;241m.\u001B[39mview(\u001B[38;5;241m-\u001B[39m\u001B[38;5;241m1\u001B[39m))  \u001B[38;5;66;03m# 计算损失\u001B[39;00m\n\u001B[0;32m     15\u001B[0m loss\u001B[38;5;241m.\u001B[39mbackward()  \u001B[38;5;66;03m# 反向传播\u001B[39;00m\n\u001B[1;32m---> 16\u001B[0m \u001B[43moptimizer\u001B[49m\u001B[38;5;241;43m.\u001B[39;49m\u001B[43mstep\u001B[49m\u001B[43m(\u001B[49m\u001B[43m)\u001B[49m  \u001B[38;5;66;03m# 更新参数\u001B[39;00m\n\u001B[0;32m     17\u001B[0m epoch_loss \u001B[38;5;241m+\u001B[39m\u001B[38;5;241m=\u001B[39m loss\u001B[38;5;241m.\u001B[39mitem()  \u001B[38;5;66;03m# 累加损失\u001B[39;00m\n\u001B[0;32m     18\u001B[0m \u001B[38;5;28;01mif\u001B[39;00m batch_idx \u001B[38;5;241m%\u001B[39m \u001B[38;5;241m1000\u001B[39m \u001B[38;5;241m==\u001B[39m \u001B[38;5;241m0\u001B[39m:  \u001B[38;5;66;03m# 每1000个批次打印一次损失\u001B[39;00m\n",
      "File \u001B[1;32mE:\\software\\Anaconda\\envs\\llm-gpt\\lib\\site-packages\\torch\\optim\\optimizer.py:373\u001B[0m, in \u001B[0;36mOptimizer.profile_hook_step.<locals>.wrapper\u001B[1;34m(*args, **kwargs)\u001B[0m\n\u001B[0;32m    368\u001B[0m         \u001B[38;5;28;01melse\u001B[39;00m:\n\u001B[0;32m    369\u001B[0m             \u001B[38;5;28;01mraise\u001B[39;00m \u001B[38;5;167;01mRuntimeError\u001B[39;00m(\n\u001B[0;32m    370\u001B[0m                 \u001B[38;5;124mf\u001B[39m\u001B[38;5;124m\"\u001B[39m\u001B[38;5;132;01m{\u001B[39;00mfunc\u001B[38;5;132;01m}\u001B[39;00m\u001B[38;5;124m must return None or a tuple of (new_args, new_kwargs), but got \u001B[39m\u001B[38;5;132;01m{\u001B[39;00mresult\u001B[38;5;132;01m}\u001B[39;00m\u001B[38;5;124m.\u001B[39m\u001B[38;5;124m\"\u001B[39m\n\u001B[0;32m    371\u001B[0m             )\n\u001B[1;32m--> 373\u001B[0m out \u001B[38;5;241m=\u001B[39m func(\u001B[38;5;241m*\u001B[39margs, \u001B[38;5;241m*\u001B[39m\u001B[38;5;241m*\u001B[39mkwargs)\n\u001B[0;32m    374\u001B[0m \u001B[38;5;28mself\u001B[39m\u001B[38;5;241m.\u001B[39m_optimizer_step_code()\n\u001B[0;32m    376\u001B[0m \u001B[38;5;66;03m# call optimizer step post hooks\u001B[39;00m\n",
      "File \u001B[1;32mE:\\software\\Anaconda\\envs\\llm-gpt\\lib\\site-packages\\torch\\optim\\optimizer.py:76\u001B[0m, in \u001B[0;36m_use_grad_for_differentiable.<locals>._use_grad\u001B[1;34m(self, *args, **kwargs)\u001B[0m\n\u001B[0;32m     74\u001B[0m     torch\u001B[38;5;241m.\u001B[39mset_grad_enabled(\u001B[38;5;28mself\u001B[39m\u001B[38;5;241m.\u001B[39mdefaults[\u001B[38;5;124m'\u001B[39m\u001B[38;5;124mdifferentiable\u001B[39m\u001B[38;5;124m'\u001B[39m])\n\u001B[0;32m     75\u001B[0m     torch\u001B[38;5;241m.\u001B[39m_dynamo\u001B[38;5;241m.\u001B[39mgraph_break()\n\u001B[1;32m---> 76\u001B[0m     ret \u001B[38;5;241m=\u001B[39m func(\u001B[38;5;28mself\u001B[39m, \u001B[38;5;241m*\u001B[39margs, \u001B[38;5;241m*\u001B[39m\u001B[38;5;241m*\u001B[39mkwargs)\n\u001B[0;32m     77\u001B[0m \u001B[38;5;28;01mfinally\u001B[39;00m:\n\u001B[0;32m     78\u001B[0m     torch\u001B[38;5;241m.\u001B[39m_dynamo\u001B[38;5;241m.\u001B[39mgraph_break()\n",
      "File \u001B[1;32mE:\\software\\Anaconda\\envs\\llm-gpt\\lib\\site-packages\\torch\\optim\\adam.py:163\u001B[0m, in \u001B[0;36mAdam.step\u001B[1;34m(self, closure)\u001B[0m\n\u001B[0;32m    152\u001B[0m     beta1, beta2 \u001B[38;5;241m=\u001B[39m group[\u001B[38;5;124m'\u001B[39m\u001B[38;5;124mbetas\u001B[39m\u001B[38;5;124m'\u001B[39m]\n\u001B[0;32m    154\u001B[0m     \u001B[38;5;28mself\u001B[39m\u001B[38;5;241m.\u001B[39m_init_group(\n\u001B[0;32m    155\u001B[0m         group,\n\u001B[0;32m    156\u001B[0m         params_with_grad,\n\u001B[1;32m   (...)\u001B[0m\n\u001B[0;32m    160\u001B[0m         max_exp_avg_sqs,\n\u001B[0;32m    161\u001B[0m         state_steps)\n\u001B[1;32m--> 163\u001B[0m     \u001B[43madam\u001B[49m\u001B[43m(\u001B[49m\n\u001B[0;32m    164\u001B[0m \u001B[43m        \u001B[49m\u001B[43mparams_with_grad\u001B[49m\u001B[43m,\u001B[49m\n\u001B[0;32m    165\u001B[0m \u001B[43m        \u001B[49m\u001B[43mgrads\u001B[49m\u001B[43m,\u001B[49m\n\u001B[0;32m    166\u001B[0m \u001B[43m        \u001B[49m\u001B[43mexp_avgs\u001B[49m\u001B[43m,\u001B[49m\n\u001B[0;32m    167\u001B[0m \u001B[43m        \u001B[49m\u001B[43mexp_avg_sqs\u001B[49m\u001B[43m,\u001B[49m\n\u001B[0;32m    168\u001B[0m \u001B[43m        \u001B[49m\u001B[43mmax_exp_avg_sqs\u001B[49m\u001B[43m,\u001B[49m\n\u001B[0;32m    169\u001B[0m \u001B[43m        \u001B[49m\u001B[43mstate_steps\u001B[49m\u001B[43m,\u001B[49m\n\u001B[0;32m    170\u001B[0m \u001B[43m        \u001B[49m\u001B[43mamsgrad\u001B[49m\u001B[38;5;241;43m=\u001B[39;49m\u001B[43mgroup\u001B[49m\u001B[43m[\u001B[49m\u001B[38;5;124;43m'\u001B[39;49m\u001B[38;5;124;43mamsgrad\u001B[39;49m\u001B[38;5;124;43m'\u001B[39;49m\u001B[43m]\u001B[49m\u001B[43m,\u001B[49m\n\u001B[0;32m    171\u001B[0m \u001B[43m        \u001B[49m\u001B[43mbeta1\u001B[49m\u001B[38;5;241;43m=\u001B[39;49m\u001B[43mbeta1\u001B[49m\u001B[43m,\u001B[49m\n\u001B[0;32m    172\u001B[0m \u001B[43m        \u001B[49m\u001B[43mbeta2\u001B[49m\u001B[38;5;241;43m=\u001B[39;49m\u001B[43mbeta2\u001B[49m\u001B[43m,\u001B[49m\n\u001B[0;32m    173\u001B[0m \u001B[43m        \u001B[49m\u001B[43mlr\u001B[49m\u001B[38;5;241;43m=\u001B[39;49m\u001B[43mgroup\u001B[49m\u001B[43m[\u001B[49m\u001B[38;5;124;43m'\u001B[39;49m\u001B[38;5;124;43mlr\u001B[39;49m\u001B[38;5;124;43m'\u001B[39;49m\u001B[43m]\u001B[49m\u001B[43m,\u001B[49m\n\u001B[0;32m    174\u001B[0m \u001B[43m        \u001B[49m\u001B[43mweight_decay\u001B[49m\u001B[38;5;241;43m=\u001B[39;49m\u001B[43mgroup\u001B[49m\u001B[43m[\u001B[49m\u001B[38;5;124;43m'\u001B[39;49m\u001B[38;5;124;43mweight_decay\u001B[39;49m\u001B[38;5;124;43m'\u001B[39;49m\u001B[43m]\u001B[49m\u001B[43m,\u001B[49m\n\u001B[0;32m    175\u001B[0m \u001B[43m        \u001B[49m\u001B[43meps\u001B[49m\u001B[38;5;241;43m=\u001B[39;49m\u001B[43mgroup\u001B[49m\u001B[43m[\u001B[49m\u001B[38;5;124;43m'\u001B[39;49m\u001B[38;5;124;43meps\u001B[39;49m\u001B[38;5;124;43m'\u001B[39;49m\u001B[43m]\u001B[49m\u001B[43m,\u001B[49m\n\u001B[0;32m    176\u001B[0m \u001B[43m        \u001B[49m\u001B[43mmaximize\u001B[49m\u001B[38;5;241;43m=\u001B[39;49m\u001B[43mgroup\u001B[49m\u001B[43m[\u001B[49m\u001B[38;5;124;43m'\u001B[39;49m\u001B[38;5;124;43mmaximize\u001B[39;49m\u001B[38;5;124;43m'\u001B[39;49m\u001B[43m]\u001B[49m\u001B[43m,\u001B[49m\n\u001B[0;32m    177\u001B[0m \u001B[43m        \u001B[49m\u001B[43mforeach\u001B[49m\u001B[38;5;241;43m=\u001B[39;49m\u001B[43mgroup\u001B[49m\u001B[43m[\u001B[49m\u001B[38;5;124;43m'\u001B[39;49m\u001B[38;5;124;43mforeach\u001B[39;49m\u001B[38;5;124;43m'\u001B[39;49m\u001B[43m]\u001B[49m\u001B[43m,\u001B[49m\n\u001B[0;32m    178\u001B[0m \u001B[43m        \u001B[49m\u001B[43mcapturable\u001B[49m\u001B[38;5;241;43m=\u001B[39;49m\u001B[43mgroup\u001B[49m\u001B[43m[\u001B[49m\u001B[38;5;124;43m'\u001B[39;49m\u001B[38;5;124;43mcapturable\u001B[39;49m\u001B[38;5;124;43m'\u001B[39;49m\u001B[43m]\u001B[49m\u001B[43m,\u001B[49m\n\u001B[0;32m    179\u001B[0m \u001B[43m        \u001B[49m\u001B[43mdifferentiable\u001B[49m\u001B[38;5;241;43m=\u001B[39;49m\u001B[43mgroup\u001B[49m\u001B[43m[\u001B[49m\u001B[38;5;124;43m'\u001B[39;49m\u001B[38;5;124;43mdifferentiable\u001B[39;49m\u001B[38;5;124;43m'\u001B[39;49m\u001B[43m]\u001B[49m\u001B[43m,\u001B[49m\n\u001B[0;32m    180\u001B[0m \u001B[43m        \u001B[49m\u001B[43mfused\u001B[49m\u001B[38;5;241;43m=\u001B[39;49m\u001B[43mgroup\u001B[49m\u001B[43m[\u001B[49m\u001B[38;5;124;43m'\u001B[39;49m\u001B[38;5;124;43mfused\u001B[39;49m\u001B[38;5;124;43m'\u001B[39;49m\u001B[43m]\u001B[49m\u001B[43m,\u001B[49m\n\u001B[0;32m    181\u001B[0m \u001B[43m        \u001B[49m\u001B[43mgrad_scale\u001B[49m\u001B[38;5;241;43m=\u001B[39;49m\u001B[38;5;28;43mgetattr\u001B[39;49m\u001B[43m(\u001B[49m\u001B[38;5;28;43mself\u001B[39;49m\u001B[43m,\u001B[49m\u001B[43m \u001B[49m\u001B[38;5;124;43m\"\u001B[39;49m\u001B[38;5;124;43mgrad_scale\u001B[39;49m\u001B[38;5;124;43m\"\u001B[39;49m\u001B[43m,\u001B[49m\u001B[43m \u001B[49m\u001B[38;5;28;43;01mNone\u001B[39;49;00m\u001B[43m)\u001B[49m\u001B[43m,\u001B[49m\n\u001B[0;32m    182\u001B[0m \u001B[43m        \u001B[49m\u001B[43mfound_inf\u001B[49m\u001B[38;5;241;43m=\u001B[39;49m\u001B[38;5;28;43mgetattr\u001B[39;49m\u001B[43m(\u001B[49m\u001B[38;5;28;43mself\u001B[39;49m\u001B[43m,\u001B[49m\u001B[43m \u001B[49m\u001B[38;5;124;43m\"\u001B[39;49m\u001B[38;5;124;43mfound_inf\u001B[39;49m\u001B[38;5;124;43m\"\u001B[39;49m\u001B[43m,\u001B[49m\u001B[43m \u001B[49m\u001B[38;5;28;43;01mNone\u001B[39;49;00m\u001B[43m)\u001B[49m\u001B[43m,\u001B[49m\n\u001B[0;32m    183\u001B[0m \u001B[43m    \u001B[49m\u001B[43m)\u001B[49m\n\u001B[0;32m    185\u001B[0m \u001B[38;5;28;01mreturn\u001B[39;00m loss\n",
      "File \u001B[1;32mE:\\software\\Anaconda\\envs\\llm-gpt\\lib\\site-packages\\torch\\optim\\adam.py:311\u001B[0m, in \u001B[0;36madam\u001B[1;34m(params, grads, exp_avgs, exp_avg_sqs, max_exp_avg_sqs, state_steps, foreach, capturable, differentiable, fused, grad_scale, found_inf, amsgrad, beta1, beta2, lr, weight_decay, eps, maximize)\u001B[0m\n\u001B[0;32m    308\u001B[0m \u001B[38;5;28;01melse\u001B[39;00m:\n\u001B[0;32m    309\u001B[0m     func \u001B[38;5;241m=\u001B[39m _single_tensor_adam\n\u001B[1;32m--> 311\u001B[0m \u001B[43mfunc\u001B[49m\u001B[43m(\u001B[49m\u001B[43mparams\u001B[49m\u001B[43m,\u001B[49m\n\u001B[0;32m    312\u001B[0m \u001B[43m     \u001B[49m\u001B[43mgrads\u001B[49m\u001B[43m,\u001B[49m\n\u001B[0;32m    313\u001B[0m \u001B[43m     \u001B[49m\u001B[43mexp_avgs\u001B[49m\u001B[43m,\u001B[49m\n\u001B[0;32m    314\u001B[0m \u001B[43m     \u001B[49m\u001B[43mexp_avg_sqs\u001B[49m\u001B[43m,\u001B[49m\n\u001B[0;32m    315\u001B[0m \u001B[43m     \u001B[49m\u001B[43mmax_exp_avg_sqs\u001B[49m\u001B[43m,\u001B[49m\n\u001B[0;32m    316\u001B[0m \u001B[43m     \u001B[49m\u001B[43mstate_steps\u001B[49m\u001B[43m,\u001B[49m\n\u001B[0;32m    317\u001B[0m \u001B[43m     \u001B[49m\u001B[43mamsgrad\u001B[49m\u001B[38;5;241;43m=\u001B[39;49m\u001B[43mamsgrad\u001B[49m\u001B[43m,\u001B[49m\n\u001B[0;32m    318\u001B[0m \u001B[43m     \u001B[49m\u001B[43mbeta1\u001B[49m\u001B[38;5;241;43m=\u001B[39;49m\u001B[43mbeta1\u001B[49m\u001B[43m,\u001B[49m\n\u001B[0;32m    319\u001B[0m \u001B[43m     \u001B[49m\u001B[43mbeta2\u001B[49m\u001B[38;5;241;43m=\u001B[39;49m\u001B[43mbeta2\u001B[49m\u001B[43m,\u001B[49m\n\u001B[0;32m    320\u001B[0m \u001B[43m     \u001B[49m\u001B[43mlr\u001B[49m\u001B[38;5;241;43m=\u001B[39;49m\u001B[43mlr\u001B[49m\u001B[43m,\u001B[49m\n\u001B[0;32m    321\u001B[0m \u001B[43m     \u001B[49m\u001B[43mweight_decay\u001B[49m\u001B[38;5;241;43m=\u001B[39;49m\u001B[43mweight_decay\u001B[49m\u001B[43m,\u001B[49m\n\u001B[0;32m    322\u001B[0m \u001B[43m     \u001B[49m\u001B[43meps\u001B[49m\u001B[38;5;241;43m=\u001B[39;49m\u001B[43meps\u001B[49m\u001B[43m,\u001B[49m\n\u001B[0;32m    323\u001B[0m \u001B[43m     \u001B[49m\u001B[43mmaximize\u001B[49m\u001B[38;5;241;43m=\u001B[39;49m\u001B[43mmaximize\u001B[49m\u001B[43m,\u001B[49m\n\u001B[0;32m    324\u001B[0m \u001B[43m     \u001B[49m\u001B[43mcapturable\u001B[49m\u001B[38;5;241;43m=\u001B[39;49m\u001B[43mcapturable\u001B[49m\u001B[43m,\u001B[49m\n\u001B[0;32m    325\u001B[0m \u001B[43m     \u001B[49m\u001B[43mdifferentiable\u001B[49m\u001B[38;5;241;43m=\u001B[39;49m\u001B[43mdifferentiable\u001B[49m\u001B[43m,\u001B[49m\n\u001B[0;32m    326\u001B[0m \u001B[43m     \u001B[49m\u001B[43mgrad_scale\u001B[49m\u001B[38;5;241;43m=\u001B[39;49m\u001B[43mgrad_scale\u001B[49m\u001B[43m,\u001B[49m\n\u001B[0;32m    327\u001B[0m \u001B[43m     \u001B[49m\u001B[43mfound_inf\u001B[49m\u001B[38;5;241;43m=\u001B[39;49m\u001B[43mfound_inf\u001B[49m\u001B[43m)\u001B[49m\n",
      "File \u001B[1;32mE:\\software\\Anaconda\\envs\\llm-gpt\\lib\\site-packages\\torch\\optim\\adam.py:385\u001B[0m, in \u001B[0;36m_single_tensor_adam\u001B[1;34m(params, grads, exp_avgs, exp_avg_sqs, max_exp_avg_sqs, state_steps, grad_scale, found_inf, amsgrad, beta1, beta2, lr, weight_decay, eps, maximize, capturable, differentiable)\u001B[0m\n\u001B[0;32m    383\u001B[0m \u001B[38;5;66;03m# Decay the first and second moment running average coefficient\u001B[39;00m\n\u001B[0;32m    384\u001B[0m exp_avg\u001B[38;5;241m.\u001B[39mlerp_(grad, \u001B[38;5;241m1\u001B[39m \u001B[38;5;241m-\u001B[39m beta1)\n\u001B[1;32m--> 385\u001B[0m \u001B[43mexp_avg_sq\u001B[49m\u001B[38;5;241;43m.\u001B[39;49m\u001B[43mmul_\u001B[49m\u001B[43m(\u001B[49m\u001B[43mbeta2\u001B[49m\u001B[43m)\u001B[49m\u001B[38;5;241m.\u001B[39maddcmul_(grad, grad\u001B[38;5;241m.\u001B[39mconj(), value\u001B[38;5;241m=\u001B[39m\u001B[38;5;241m1\u001B[39m \u001B[38;5;241m-\u001B[39m beta2)\n\u001B[0;32m    387\u001B[0m \u001B[38;5;28;01mif\u001B[39;00m capturable \u001B[38;5;129;01mor\u001B[39;00m differentiable:\n\u001B[0;32m    388\u001B[0m     step \u001B[38;5;241m=\u001B[39m step_t\n",
      "\u001B[1;31mKeyboardInterrupt\u001B[0m: "
     ]
    }
   ],
   "execution_count": 15
  },
  {
   "metadata": {},
   "cell_type": "code",
   "outputs": [],
   "execution_count": null,
   "source": "",
   "id": "7bbcbbe9dd8de4e3"
  }
 ],
 "metadata": {
  "kernelspec": {
   "display_name": "Python 3",
   "language": "python",
   "name": "python3"
  },
  "language_info": {
   "codemirror_mode": {
    "name": "ipython",
    "version": 2
   },
   "file_extension": ".py",
   "mimetype": "text/x-python",
   "name": "python",
   "nbconvert_exporter": "python",
   "pygments_lexer": "ipython2",
   "version": "2.7.6"
  }
 },
 "nbformat": 4,
 "nbformat_minor": 5
}
