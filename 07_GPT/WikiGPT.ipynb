{
 "cells": [
  {
   "metadata": {
    "ExecuteTime": {
     "end_time": "2024-11-27T11:02:35.525369Z",
     "start_time": "2024-11-27T11:02:32.748932Z"
    }
   },
   "cell_type": "code",
   "source": [
    "import torch\n",
    "from torch import candidate\n",
    "\n",
    "device = torch.device(\"cuda\" if torch.cuda.is_available() else \"cpu\") # 设置设备\n",
    "print(torch.__file__)\n",
    "print(torch.__version__)\n",
    "print(device)"
   ],
   "id": "ebe0b676029de880",
   "outputs": [
    {
     "name": "stdout",
     "output_type": "stream",
     "text": [
      "E:\\software\\Anaconda\\envs\\llm-gpt\\lib\\site-packages\\torch\\__init__.py\n",
      "2.1.0+cu118\n",
      "cuda\n"
     ]
    }
   ],
   "execution_count": 1
  },
  {
   "metadata": {
    "ExecuteTime": {
     "end_time": "2024-11-27T11:02:35.557370Z",
     "start_time": "2024-11-27T11:02:35.542371Z"
    }
   },
   "cell_type": "code",
   "source": [
    "import numpy as np\n",
    "import torch\n",
    "import torch.nn as nn\n",
    "from torch.cuda import device\n",
    "\n",
    "d_k = 64 # K（=Q）维度\n",
    "d_v = 64 # V维度\n",
    "# 定义缩放点积注意力类\n",
    "class ScaledDotProductAttention(nn.Module):\n",
    "    def __init__(self):\n",
    "        super(ScaledDotProductAttention, self).__init__()\n",
    "    def forward(self, Q, K, V, attn_mask):\n",
    "        #----------------------维度信息------------------------\n",
    "        # Q、K、V [batch_size, n_heads, len_q/k/v, dim_k/v] (dim_q=dim_k)\n",
    "        # attn_mask [batch_size, n_heads, len_q, len_k]\n",
    "        #-------------------------------------------------------\n",
    "        # 计算注意力分数（原始权重）[batch_size, n_heads, len_q, dim_q] * [batch_size, n_heads, dim_k, len_q] = [batch_size, n_heads, len_q, len_k]\n",
    "        scores = torch.matmul(Q, K.transpose(-1, -2)) / np.sqrt(d_k)\n",
    "        #----------------------维度信息------------------------\n",
    "        # scores [batch_size, n_heads, len_q, len_k]\n",
    "        #-------------------------------------------------------\n",
    "        # 使用注意力掩码，将attn_mask中值为1的位置的权重替换为极小值\n",
    "        #----------------------维度信息------------------------\n",
    "        # attn_mask [batch_size, n_heads, len_q, len_k]\n",
    "        #-------------------------------------------------------\n",
    "        scores.masked_fill_(attn_mask, -1e9)\n",
    "        # 用softmax函数对scores进行归一化，得到注意力权重\n",
    "        weights = nn.Softmax(dim=-1)(scores)  # 创建了一个指定最后一个维度的softmax层，并对scores进行softmax操作\n",
    "        #----------------------维度信息------------------------\n",
    "        # weights [batch_size, n_heads, len_q, len_k]\n",
    "        #-------------------------------------------------------\n",
    "        # 计算上下文向量（也就是注意力值），是上下文信息的紧凑表示 [batch_size, n_heads, len_q, len_k] * [batch_size, n_heads, len_k, dim_v] = [batch_size, n_heads, len_q, dim_v]\n",
    "        context = torch.matmul(weights, V)\n",
    "        #----------------------维度信息------------------------\n",
    "        # context [batch_size, n_heads, len_q, dim_v]\n",
    "        #-------------------------------------------------------\n",
    "        return context, weights # 返回上下文信息和注意力权重"
   ],
   "id": "8f5f084f1d4fd1d9",
   "outputs": [],
   "execution_count": 2
  },
  {
   "metadata": {
    "ExecuteTime": {
     "end_time": "2024-11-27T11:02:35.668348Z",
     "start_time": "2024-11-27T11:02:35.654278Z"
    }
   },
   "cell_type": "code",
   "source": [
    "# 定义多头注意力类\n",
    "d_embedding = 512 # 词嵌入维度\n",
    "n_heads = 8 # 多头注意力个数\n",
    "batch_size = 3 # 批次大小\n",
    "class MultiHeadAttention(nn.Module):\n",
    "    def __init__(self):\n",
    "        super(MultiHeadAttention, self).__init__()\n",
    "        # 确保d_model能被n_heads整除\n",
    "        assert d_embedding % n_heads == 0\n",
    "        self.W_Q = nn.Linear(d_embedding, d_k * n_heads)  # Q的线性变换层\n",
    "        self.W_K = nn.Linear(d_embedding, d_k * n_heads)  # K的线性变换层\n",
    "        self.W_V = nn.Linear(d_embedding, d_v * n_heads)  # V的线性变换层\n",
    "        self.linear = nn.Linear(d_v * n_heads, d_embedding)  # 最后的线性变换层\n",
    "        self.layer_norm = nn.LayerNorm(d_embedding)  # Layer Norm层\n",
    "    def forward(self, Q, K, V, attn_mask):\n",
    "        #----------------------维度信息------------------------\n",
    "        # Q、K、V [batch_size, len_q/k/v, embedding_dim]\n",
    "        #-------------------------------------------------------\n",
    "        residual, batch_size = Q, Q.size(0) # 残差连接\n",
    "        # 将输入进行线性变换和重塑，以便后续处理，[batch_size, len_q/k/v, embedding_dim] -> [batch_size, n_heads, len_q/k/v, d_k/d_v]\n",
    "        q_s = self.W_Q(Q).view(batch_size, -1, n_heads, d_k).transpose(1, 2)  # Q [batch_size, n_heads, len_q, d_k]\n",
    "        k_s = self.W_K(K).view(batch_size, -1, n_heads, d_k).transpose(1, 2)  # K [batch_size, n_heads, len_k, d_k]\n",
    "        v_s = self.W_V(V).view(batch_size, -1, n_heads, d_v).transpose(1, 2)  # V [batch_size, n_heads, len_v, d_v]\n",
    "        # 将注意力掩码复制多到头 attn_mask [batch_size, 1, len_q, len_k] -> [batch_size, n_heads, len_q, len_k]\n",
    "        attn_mask = attn_mask.unsqueeze(1).repeat(1, n_heads, 1, 1)\n",
    "        #----------------------维度信息------------------------\n",
    "        # attn_mask [batch_size, n_heads, len_q, len_k]\n",
    "        #-------------------------------------------------------\n",
    "        # 使用缩放点积注意力计算上下文和注意力权重\n",
    "        context, weights = ScaledDotProductAttention()(q_s, k_s, v_s, attn_mask)\n",
    "        #----------------------维度信息------------------------\n",
    "        # context [batch_size, n_heads, len_q, d_v]\n",
    "        # weights [batch_size, n_heads, len_q, len_k]\n",
    "        #-------------------------------------------------------\n",
    "        # 通过调整维度将多个头的上下文向量连接在一起，[batch_size, n_heads, len_q, d_v] -> [batch_size, len_q, n_heads * d_v]\n",
    "        context = context.transpose(1, 2).contiguous().view(batch_size, -1, n_heads * d_v)\n",
    "        #----------------------维度信息------------------------\n",
    "        # context [batch_size, len_q, n_heads * d_v]\n",
    "        #-------------------------------------------------------\n",
    "        # 用一个线性层把连接后的在多头注意力结果转换，原始地嵌入维度，[batch_size, len_q, n_heads * d_v] -> [batch_size, len_q, embedding_dim]\n",
    "        output = self.linear(context)\n",
    "        #----------------------维度信息------------------------\n",
    "        # output [batch_size, len_q, embedding_dim]\n",
    "        #-------------------------------------------------------\n",
    "        # 与输入(Q)进行残差连接，并进行层归一化后处理\n",
    "        output = self.layer_norm(output + residual)\n",
    "        #----------------------维度信息------------------------\n",
    "        # output [batch_size, len_q, embedding_dim]\n",
    "        #-------------------------------------------------------\n",
    "        return output, weights  # 返回层归一化的输出和和注意力权重"
   ],
   "id": "62ab8d76d7d7a4f0",
   "outputs": [],
   "execution_count": 3
  },
  {
   "metadata": {
    "ExecuteTime": {
     "end_time": "2024-11-27T11:02:35.699782Z",
     "start_time": "2024-11-27T11:02:35.684965Z"
    }
   },
   "cell_type": "code",
   "source": [
    "# 定义逐位置前馈网络\n",
    "class PoswiseFeedForwardNet(nn.Module):\n",
    "    def __init__(self, d_ff=2048):\n",
    "        super(PoswiseFeedForwardNet, self).__init__()\n",
    "        # 定义一维卷积层1，用于将输入映射到更高维度\n",
    "        self.conv1 = nn.Conv1d(in_channels=d_embedding, out_channels=d_ff, kernel_size=1)\n",
    "        # 定义一维卷积层2，用于将映射后的向量映射回原始维度\n",
    "        self.conv2 = nn.Conv1d(in_channels=d_ff, out_channels=d_embedding, kernel_size=1)\n",
    "        # 定义层归一化\n",
    "        self.layer_norm = nn.LayerNorm(d_embedding)\n",
    "    def forward(self, inputs):\n",
    "        #----------------------维度信息------------------------\n",
    "        # inputs [batch_size, len_q, embedding_dim]\n",
    "        #-------------------------------------------------------\n",
    "        residual = inputs  # 保留残差连接\n",
    "        # 在第一个卷积层1后使用ReLU函数，[batch_size, len_q, embedding_dim] -> [batch_size, embedding_dim, len_q] -> [batch_size, len_q, d_ff]\n",
    "        output = nn.ReLU()(self.conv1(inputs.transpose(1, 2)))\n",
    "        #----------------------维度信息------------------------\n",
    "        # output [batch_size, d_ff, len_q]\n",
    "        #-------------------------------------------------------\n",
    "        # 使用卷积2进行降维\n",
    "        output = self.conv2(output).transpose(1, 2)\n",
    "        #----------------------维度信息------------------------\n",
    "        # output [batch_size, len_q, embedding_dim]\n",
    "        #-------------------------------------------------------\n",
    "        # 与输入进行残差连接，并进行层归一化\n",
    "        output = self.layer_norm(output + residual)\n",
    "        #----------------------维度信息------------------------\n",
    "        # output [batch_size, len_q, embedding_dim]\n",
    "        #-------------------------------------------------------\n",
    "        return output  # 返回层归一化的输出"
   ],
   "id": "5ca02c455e2de5fb",
   "outputs": [],
   "execution_count": 4
  },
  {
   "metadata": {
    "ExecuteTime": {
     "end_time": "2024-11-27T11:02:35.730765Z",
     "start_time": "2024-11-27T11:02:35.716987Z"
    }
   },
   "cell_type": "code",
   "source": [
    "# 定义填充注意力掩码函数\n",
    "def get_attn_pad_mask(seq_q, seq_k):\n",
    "    #----------------------维度信息------------------------\n",
    "    # seq_q的维度是[batch_size, len_q]\n",
    "    # seq_k的维度是[batch_size, len_k]\n",
    "    #-------------------------------------------------------\n",
    "    batch_size, len_q = seq_q.size()\n",
    "    batch_size, len_k = seq_k.size()\n",
    "    # 生成布尔类型张量\n",
    "    pad_attn_mask = seq_k.data.eq(0).unsqueeze(1)  # <PAD>token的编码值为0\n",
    "    #----------------------维度信息------------------------\n",
    "    # pad_attn_mask [batch_size, 1, len_k]\n",
    "    #-------------------------------------------------------\n",
    "    # 变形为与注意力分数相同的张量\n",
    "    pad_attn_mask = pad_attn_mask.expand(batch_size, len_q, len_k)\n",
    "    #----------------------维度信息------------------------\n",
    "    # pad_attn_mask [batch_size, len_q, len_k]\n",
    "    #-------------------------------------------------------\n",
    "    return pad_attn_mask  # 返回注意力掩码张量"
   ],
   "id": "fc06060af72d9763",
   "outputs": [],
   "execution_count": 5
  },
  {
   "metadata": {
    "ExecuteTime": {
     "end_time": "2024-11-27T11:02:35.761425Z",
     "start_time": "2024-11-27T11:02:35.748419Z"
    }
   },
   "cell_type": "code",
   "source": [
    "# 生成后续注意力掩码的函数，用于在多头自注意力计算中忽略未来信息\n",
    "def get_attn_subsequence_mask(seq):\n",
    "    #----------------------维度信息------------------------\n",
    "    # seq的维度是[batch_size, seq_len(Q)=seq_len(K)]\n",
    "    #-------------------------------------------------------\n",
    "    # 获取输入序列的形状\n",
    "    attn_shape = [seq.size(0), seq.size(1), seq.size(1)]\n",
    "    #----------------------维度信息------------------------\n",
    "    # attn_shape [batch_size, seq_len, seq_len]\n",
    "    #-------------------------------------------------------\n",
    "    # 生成一个下三角矩阵\n",
    "    subsequent_mask = np.triu(np.ones(attn_shape), k=1)\n",
    "    #----------------------维度信息------------------------\n",
    "    # subsequent_mask [batch_size, seq_len, seq_len]\n",
    "    #-------------------------------------------------------\n",
    "    # 将numpy数组转换为Tensor，并将其转换为布尔类型\n",
    "    subsequent_mask = torch.from_numpy(subsequent_mask).bool()\n",
    "    #----------------------维度信息------------------------\n",
    "    # subsequent_mask [batch_size, seq_len, seq_len]\n",
    "    #-------------------------------------------------------\n",
    "    return subsequent_mask  # 返回后续注意力掩码张量"
   ],
   "id": "a15217f60499f1fa",
   "outputs": [],
   "execution_count": 6
  },
  {
   "metadata": {
    "ExecuteTime": {
     "end_time": "2024-11-27T11:02:35.791952Z",
     "start_time": "2024-11-27T11:02:35.777352Z"
    }
   },
   "cell_type": "code",
   "source": [
    "# 定义解码器层类\n",
    "class DecoderLayer(nn.Module):\n",
    "    def __init__(self):\n",
    "        super(DecoderLayer, self).__init__()\n",
    "        self.self_attn = MultiHeadAttention()  # 多头自注意力\n",
    "        self.feed_forward = PoswiseFeedForwardNet()  # 逐位置前馈网络\n",
    "        self.norm1 = nn.LayerNorm(d_embedding)  # 第一个层归一化\n",
    "        self.norm2 = nn.LayerNorm(d_embedding)  # 第二个层归一化\n",
    "    def forward(self, dec_inputs, self_attn_mask=None):\n",
    "        # 使用多头注意力处理输入\n",
    "        dec_outputs, _ = self.self_attn(dec_inputs, dec_inputs, dec_inputs, self_attn_mask)\n",
    "        # 将注意力输出与输入相加并进行第一个层归一化\n",
    "        norm1_outputs = self.norm1(dec_outputs + dec_inputs)\n",
    "        # 将第一个层归一化的输出输入到逐位置前馈网络\n",
    "        ff_outputs = self.feed_forward(norm1_outputs)\n",
    "        # 将前馈网络的输出与第一个层归一化的输出相加并进行第二个层归一化\n",
    "        dec_outputs = self.norm2(ff_outputs + norm1_outputs)\n",
    "        return dec_outputs  # 返回解码器层的输出"
   ],
   "id": "ff90fe570d202d0f",
   "outputs": [],
   "execution_count": 7
  },
  {
   "metadata": {
    "ExecuteTime": {
     "end_time": "2024-11-27T11:02:35.823048Z",
     "start_time": "2024-11-27T11:02:35.808972Z"
    }
   },
   "cell_type": "code",
   "source": [
    "# 定义解码器类\n",
    "n_layers = 6 # 解码器层数\n",
    "class Decoder(nn.Module):\n",
    "    def __init__(self, vocab_size, max_seq_len):\n",
    "        super(Decoder, self).__init__()\n",
    "        # 词嵌入层（参数为字典维度）\n",
    "        self.src_emb = nn.Embedding(vocab_size, d_embedding)\n",
    "        # 位置编码层 （参数为最大序列长度）\n",
    "        self.pos_emb = nn.Embedding(max_seq_len, d_embedding)\n",
    "        # 初始化N个解码器层\n",
    "        self.layers = nn.ModuleList([DecoderLayer() for _ in range(n_layers)])\n",
    "    def forward(self, dec_inputs):\n",
    "        # 创建位置信息\n",
    "        positions = torch.arange(len(dec_inputs), device=dec_inputs.device).unsqueeze(-1)  # [seq_len, 1]\n",
    "        # 将输入序列的词嵌入和位置编码相加\n",
    "        inputs_embedding = self.src_emb(dec_inputs) + self.pos_emb(positions)\n",
    "        # 生成解码器自注意力掩码\n",
    "        attn_mask = get_attn_subsequence_mask(inputs_embedding).to(device)\n",
    "        # 初始化解码器输入，这是第一个解码器层的输入\n",
    "        dec_outputs = inputs_embedding\n",
    "        for layer in self.layers:\n",
    "            # 逐层调用解码器层\n",
    "            dec_outputs = layer(dec_outputs, attn_mask)\n",
    "        return dec_outputs  # 返回解码器的输出"
   ],
   "id": "3f07fff6aa4ada55",
   "outputs": [],
   "execution_count": 8
  },
  {
   "metadata": {
    "ExecuteTime": {
     "end_time": "2024-11-27T11:02:35.854372Z",
     "start_time": "2024-11-27T11:02:35.840373Z"
    }
   },
   "cell_type": "code",
   "source": [
    "# 定义GPT模型\n",
    "class GPT(nn.Module):\n",
    "    def __init__(self, vocab_size, max_seq_len):\n",
    "        super(GPT, self).__init__()\n",
    "        self.decoder = Decoder(vocab_size, max_seq_len)  # 解码器，用于学习文本生成能力\n",
    "        self.projection = nn.Linear(d_embedding, vocab_size, bias=False)  # 全连接层，输出预测成果\n",
    "    def forward(self, dec_inputs):\n",
    "        # 通过解码器获取输出\n",
    "        dec_outputs = self.decoder(dec_inputs)\n",
    "        # 通过全连接层获取预测结果\n",
    "        dec_logits = self.projection(dec_outputs)\n",
    "        return dec_logits"
   ],
   "id": "2d41884f4490103b",
   "outputs": [],
   "execution_count": 9
  },
  {
   "metadata": {
    "ExecuteTime": {
     "end_time": "2024-11-27T11:02:38.105799Z",
     "start_time": "2024-11-27T11:02:35.872381Z"
    }
   },
   "cell_type": "code",
   "source": [
    "from torchtext.datasets import WikiText2\n",
    "from torchtext.data.utils import get_tokenizer\n",
    "from torchtext.vocab import build_vocab_from_iterator\n",
    "\n",
    "tokenizer = get_tokenizer('basic_english')\n",
    "train_iter = WikiText2(split='train', root='.')\n",
    "valid_iter = WikiText2(split='valid', root='.')\n",
    "vocab = build_vocab_from_iterator(map(tokenizer, train_iter), specials=['<pad>', '<sos>', '<eos>'])\n",
    "vocab.set_default_index(vocab['<pad>'])\n",
    "# 打印词汇表信息\n",
    "print(\"词汇表大小:\", len(vocab))\n",
    "print(\"词汇示例(word to index):\", \n",
    "      {word: vocab[word] for word in [\"<pad>\", \"<sos>\", \"<eos>\", \"the\", \"apple\"]})"
   ],
   "id": "8f678a8774618af0",
   "outputs": [
    {
     "name": "stdout",
     "output_type": "stream",
     "text": [
      "词汇表大小: 28785\n",
      "词汇示例(word to index): {'<pad>': 0, '<sos>': 1, '<eos>': 2, 'the': 3, 'apple': 11505}\n"
     ]
    }
   ],
   "execution_count": 10
  },
  {
   "metadata": {
    "ExecuteTime": {
     "end_time": "2024-11-27T11:02:40.134704Z",
     "start_time": "2024-11-27T11:02:38.126780Z"
    }
   },
   "cell_type": "code",
   "source": [
    "from torch.utils.data import Dataset # 导入Dataset\n",
    "max_seq_len = 256 # 设置序列的最大长度\n",
    "\n",
    "# 定义一个处理WikiText2数据集的自定义数据集类\n",
    "class WikiDataset(Dataset):\n",
    "    def __init__(self, data_iter, vocab, max_len=max_seq_len):\n",
    "        self.data = []        \n",
    "        for sentence in data_iter: # 遍历数据集，将文本转换为tokens\n",
    "            # 对每个句子进行tokenization，并截取长度为max_len-2，为<sos>和<eos>留出空间\n",
    "            tokens = tokenizer(sentence)[:max_len - 2]\n",
    "            tokens = [vocab[\"<sos>\"]] + vocab(tokens) + [vocab[\"<eos>\"]] # 添加<sos>和<eos>            \n",
    "            self.data.append(tokens) # 将处理好的tokens添加到数据集中\n",
    "    \n",
    "    def __len__(self): # 定义数据集的长度\n",
    "        return len(self.data)    \n",
    "    \n",
    "    def __getitem__(self, idx): # 定义数据集的索引方法 (即抽取数据条目)        \n",
    "        source = self.data[idx][:-1] # 获取当前数据，并将<eos>移除，作为source        \n",
    "        target = self.data[idx][1:] # 获取当前数据，并将<sos>移除，作为target（右移1位）       \n",
    "        return torch.tensor(source), torch.tensor(target) # 转换为tensor并返回\n",
    "\n",
    "train_dataset = WikiDataset(train_iter, vocab) # 创建训练数据集\n",
    "valid_dataset = WikiDataset(valid_iter, vocab) # 创建验证数据集\n",
    "print(f\"Dataset数据条目: {len(train_dataset)}\")\n",
    "sample_source, sample_target = train_dataset[100]\n",
    "print(f\"输入序列张量样例: {sample_source}\")\n",
    "print(f\"目标序列张量样例: {sample_target}\")\n",
    "decoded_source = ' '.join(vocab.lookup_tokens(sample_source.tolist()))\n",
    "decoded_target = ' '.join(vocab.lookup_tokens(sample_target.tolist()))\n",
    "print(f\"输入序列样例文本: {decoded_source}\")\n",
    "print(f\"目标序列样例文本: {decoded_target}\")"
   ],
   "id": "40e08e93045643d7",
   "outputs": [
    {
     "name": "stdout",
     "output_type": "stream",
     "text": [
      "Dataset数据条目: 36718\n",
      "输入序列张量样例: tensor([    1,  2659,  3478, 17569,  9098])\n",
      "目标序列张量样例: tensor([ 2659,  3478, 17569,  9098,     2])\n",
      "输入序列样例文本: <sos> 96 ammunition packing boxes\n",
      "目标序列样例文本: 96 ammunition packing boxes <eos>\n"
     ]
    }
   ],
   "execution_count": 11
  },
  {
   "metadata": {
    "ExecuteTime": {
     "end_time": "2024-11-27T11:02:40.166334Z",
     "start_time": "2024-11-27T11:02:40.152105Z"
    }
   },
   "cell_type": "code",
   "source": [
    "from torch.utils.data import DataLoader # 导入DataLoader\n",
    "# 定义pad_sequence函数，用于将一批序列填充到相同长度\n",
    "def pad_sequence(sequences, padding_value=0, length=None):\n",
    "    # 获取每个序列的长度，如果没有指定长度，则使用最长序列的长度\n",
    "    max_size = length if length is not None else max([len(seq) for seq in sequences])\n",
    "    # 将每个序列填充到相同长度\n",
    "    return [torch.cat([seq, torch.tensor([padding_value] * (max_size - len(seq)))]) for seq in sequences]\n",
    "\n",
    "# 定义collate_fn函数，用于将一批数据转换为模型的输入和目标\n",
    "def collate_fn(batch):\n",
    "    # 从批次中分离源序列和目标序列\n",
    "    sources, targets = zip(*batch)  # 将源序列和目标序列分离\n",
    "    # 计算批次中的最大序列长度\n",
    "    max_len = max(max(len(s) for s in sources), max(len(t) for t in targets))\n",
    "    # 将源序列和目标序列填充到相同长度\n",
    "    sources = pad_sequence(sources, vocab[\"<pad>\"], max_len)\n",
    "    targets = pad_sequence(targets, vocab[\"<pad>\"], max_len)\n",
    "    return torch.stack(sources), torch.stack(targets) # 返回模型的输入和目标\n",
    "\n",
    "# 创建一个训练数据加载器，用于加载训练数据\n",
    "train_loader = DataLoader(train_dataset, batch_size=batch_size, shuffle=True, collate_fn=collate_fn)\n",
    "# 创建一个验证数据加载器，用于加载验证数据\n",
    "valid_loader = DataLoader(valid_dataset, batch_size=batch_size, shuffle=False, collate_fn=collate_fn)"
   ],
   "id": "93a802749a14beba",
   "outputs": [],
   "execution_count": 12
  },
  {
   "metadata": {
    "ExecuteTime": {
     "end_time": "2024-11-27T11:34:54.019494Z",
     "start_time": "2024-11-27T11:02:40.183840Z"
    }
   },
   "cell_type": "code",
   "source": [
    "import torch.optim as optim # 导入优化器\n",
    "device = torch.device(\"cuda\" if torch.cuda.is_available() else \"cpu\") # 设置设备\n",
    "model = GPT(len(vocab), max_seq_len).to(device) # 创建模型并移动到设备\n",
    "criterion = nn.CrossEntropyLoss(ignore_index=vocab[\"<pad>\"]) # 创建交叉熵损失函数，忽略填充标记\n",
    "optimizer = optim.Adam(model.parameters(), lr=0.0001) # 创建Adam优化器\n",
    "epochs = 2 # 设置训练轮数\n",
    "\n",
    "import os # 导入os模块\n",
    "min_valid_loss = float('inf') # 初始化最小验证损失\n",
    "save_path = \"best_model.pt\"  # 模型保存路径\n",
    "\n",
    "for epoch in range(epochs):\n",
    "    epoch_loss = 0\n",
    "    for batch_idx, (source, target) in enumerate(train_loader):  # 遍历训练数据加载器\n",
    "        inputs, targets = source.long().to(device), target.long().to(device)  # 将输入和目标移动到设备\n",
    "        optimizer.zero_grad()  # 梯度清零\n",
    "        outputs = model(inputs)  # 通过模型获取输出\n",
    "        loss = criterion(outputs.view(-1, len(vocab)), targets.view(-1))  # 计算损失\n",
    "        loss.backward()  # 反向传播\n",
    "        optimizer.step()  # 更新参数\n",
    "        epoch_loss += loss.item()  # 累加损失\n",
    "        if batch_idx % 1000 == 0:  # 每1000个批次打印一次损失\n",
    "            print(f\"Epoch {epoch + 1}/{epochs}, Batch {batch_idx}/{len(train_loader)}, Loss {loss.item()}\")\n",
    "    print(f\"Epoch {epoch + 1}/{epochs}, Loss {epoch_loss / len(train_loader)}\")  # 打印每轮的平均损失\n",
    "    # 评估模型\n",
    "    model.eval()  # 设置模型为评估模式\n",
    "    valid_loss = 0\n",
    "    with torch.no_grad():  # 关闭梯度计算\n",
    "        for source, target in valid_loader:  # 遍历验证数据加载器\n",
    "            inputs, targets = source.long().to(device), target.long().to(device)  # 将输入和目标移动到设备\n",
    "            outputs = model(inputs)  # 通过模型获取输出\n",
    "            loss = criterion(outputs.view(-1, len(vocab)), targets.view(-1))  # 计算损失\n",
    "            valid_loss += loss.item()  # 累加损失\n",
    "        valid_loss /= len(valid_loader)  # 计算平均损失\n",
    "        print(f\"Epoch {epoch + 1}/{epochs}, Validation Loss {valid_loss}\")  # 打印验证损失\n",
    "        # 保存最优模型\n",
    "        if valid_loss < min_valid_loss:\n",
    "            min_valid_loss = valid_loss\n",
    "            torch.save(model.state_dict(), save_path)\n",
    "            print(f\"New best model saved at epoch {epoch + 1} with validation loss: {valid_loss}\")\n",
    "    model.train()  # 设置模型为训练模式"
   ],
   "id": "2f053100af8e0f38",
   "outputs": [
    {
     "name": "stdout",
     "output_type": "stream",
     "text": [
      "Epoch 1/2, Batch 0/12240, Loss 10.33438491821289\n",
      "Epoch 1/2, Batch 1000/12240, Loss 6.7005615234375\n",
      "Epoch 1/2, Batch 2000/12240, Loss 6.272916316986084\n",
      "Epoch 1/2, Batch 3000/12240, Loss 6.35912561416626\n",
      "Epoch 1/2, Batch 4000/12240, Loss 6.1083550453186035\n",
      "Epoch 1/2, Batch 5000/12240, Loss 5.837934494018555\n",
      "Epoch 1/2, Batch 6000/12240, Loss 5.301558971405029\n",
      "Epoch 1/2, Batch 7000/12240, Loss 5.902187824249268\n",
      "Epoch 1/2, Batch 8000/12240, Loss 5.574525833129883\n",
      "Epoch 1/2, Batch 9000/12240, Loss 5.52511739730835\n",
      "Epoch 1/2, Batch 10000/12240, Loss 5.786240577697754\n",
      "Epoch 1/2, Batch 11000/12240, Loss 6.608101844787598\n",
      "Epoch 1/2, Batch 12000/12240, Loss 5.677886009216309\n",
      "Epoch 1/2, Loss 5.321375150438642\n",
      "Epoch 1/2, Validation Loss 4.74414207259909\n",
      "New best model saved at epoch 1 with validation loss: 4.74414207259909\n",
      "Epoch 2/2, Batch 0/12240, Loss 0.9734917879104614\n",
      "Epoch 2/2, Batch 1000/12240, Loss 1.9096531867980957\n",
      "Epoch 2/2, Batch 2000/12240, Loss 5.712131023406982\n",
      "Epoch 2/2, Batch 3000/12240, Loss 4.51607084274292\n",
      "Epoch 2/2, Batch 4000/12240, Loss 0.3629073202610016\n",
      "Epoch 2/2, Batch 5000/12240, Loss 2.3412437438964844\n",
      "Epoch 2/2, Batch 6000/12240, Loss 5.881933212280273\n",
      "Epoch 2/2, Batch 7000/12240, Loss 5.374351978302002\n",
      "Epoch 2/2, Batch 8000/12240, Loss 5.647305011749268\n",
      "Epoch 2/2, Batch 9000/12240, Loss 5.243851184844971\n",
      "Epoch 2/2, Batch 10000/12240, Loss 4.740340232849121\n",
      "Epoch 2/2, Batch 11000/12240, Loss 0.2172619104385376\n",
      "Epoch 2/2, Batch 12000/12240, Loss 6.304562568664551\n",
      "Epoch 2/2, Loss 4.697150006105673\n",
      "Epoch 2/2, Validation Loss 4.554174266054489\n",
      "New best model saved at epoch 2 with validation loss: 4.554174266054489\n"
     ]
    }
   ],
   "execution_count": 13
  },
  {
   "metadata": {
    "ExecuteTime": {
     "end_time": "2024-11-27T12:12:49.585168Z",
     "start_time": "2024-11-27T12:12:46.148158Z"
    }
   },
   "cell_type": "code",
   "source": [
    "# 定义集束搜索函数\n",
    "def generate_text_beam_search(model, input_str, max_len=50, beam_width=5):\n",
    "    model.eval()  # 设置模型为评估模式\n",
    "    # 将输入字符串中的每个token转换为在词汇表中的索引\n",
    "    input_tokens = [vocab[token] for token in input_str.split()]\n",
    "    # 创建一个列表用于存储候选序列\n",
    "    candidates = [(input_tokens, 0.0)]  # (序列, 分数)\n",
    "    with torch.no_grad():  # 关闭梯度计算\n",
    "        for _ in range(max_len):  # 生成最大长度的序列\n",
    "            new_candidates = []\n",
    "            for candidate, candidate_score in candidates:  # 遍历候选序列\n",
    "                inputs = torch.LongTensor(candidate).unsqueeze(0).to(device)  # 将输入移动到设备\n",
    "                outputs = model(inputs)  # 输出logits形状为[1, len(output_tokens), len(vocab)]\n",
    "                logits = outputs[0, -1, :]  # 获取最后一个时间步的输出\n",
    "                scores, next_tokens = torch.topk(logits, beam_width, dim=-1)  # 获取最高的beam_width个分数和索引\n",
    "                final_results = []  # 存储最终结果\n",
    "                for score, next_token in zip(scores.squeeze(), next_tokens.squeeze()):\n",
    "                    new_candidate = candidate + [next_token.item()]  # 添加下一个token\n",
    "                    new_score = candidate_score - score.item()  # 使用负数，因为需要降序排列\n",
    "                    if next_token.item() == vocab[\"<eos>\"]:\n",
    "                        # 如果下一个token是<eos>，则将当前序列添加到最终结果\n",
    "                        final_results.append((new_candidate, new_score))\n",
    "                    else:\n",
    "                        # 否则将当前序列添加到新的候选序列\n",
    "                        new_candidates.append((new_candidate, new_score))\n",
    "            # 从新的候选序列中选择最高的beam_width个序列\n",
    "            candidates = sorted(new_candidates, key=lambda x: x[1])[:beam_width]\n",
    "    # 选择最终结果中的最高分数序列\n",
    "    best_candidate = sorted(final_results, key=lambda x: x[1])[0]\n",
    "    # 将输出的token转换为字符串\n",
    "    output_str = ' '.join([vocab.get_itos()[token] for token in best_candidate[0] if vocab.get_itos()[token] != \"<pad>\"])\n",
    "    return output_str\n",
    "\n",
    "model.load_state_dict(torch.load(save_path))  # 加载最优模型\n",
    "input_str = \"my name\"  # 输入字符串\n",
    "output_str = generate_text_beam_search(model, input_str)  # 生成文本\n",
    "print(\"生成的文本：\", output_str)  # 打印生成的文本"
   ],
   "id": "7bbcbbe9dd8de4e3",
   "outputs": [
    {
     "name": "stdout",
     "output_type": "stream",
     "text": [
      "生成的文本： my name , <unk> , <unk> , <unk> , <unk> , <unk> , <unk> , <unk> , <unk> , <unk> , <unk> , <unk> , <unk> , <unk> , <unk> , <unk> , <unk> , <unk> , <unk> , <unk> , <unk> , <unk> , <unk> , <unk> <unk> , <unk> <eos>\n"
     ]
    }
   ],
   "execution_count": 26
  },
  {
   "metadata": {},
   "cell_type": "code",
   "outputs": [],
   "execution_count": null,
   "source": "",
   "id": "6517442377fa3a89"
  }
 ],
 "metadata": {
  "kernelspec": {
   "display_name": "Python 3",
   "language": "python",
   "name": "python3"
  },
  "language_info": {
   "codemirror_mode": {
    "name": "ipython",
    "version": 2
   },
   "file_extension": ".py",
   "mimetype": "text/x-python",
   "name": "python",
   "nbconvert_exporter": "python",
   "pygments_lexer": "ipython2",
   "version": "2.7.6"
  }
 },
 "nbformat": 4,
 "nbformat_minor": 5
}
