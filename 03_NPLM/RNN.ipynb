{
 "cells": [
  {
   "cell_type": "code",
   "id": "initial_id",
   "metadata": {
    "collapsed": true,
    "ExecuteTime": {
     "end_time": "2024-11-23T08:52:31.752248Z",
     "start_time": "2024-11-23T08:52:31.737197Z"
    }
   },
   "source": [
    "# 构建一个非常简单的数据集\n",
    "sentences = [\"我 喜欢 玩具 \", \"我 爱 爸爸 \", \"我 讨厌 挨打 \"]\n",
    "# 构建词汇表连接所有句子，用空格分隔，然后用set去重，最后转换为list\n",
    "word_list = list(set(\"\".join(sentences).split()))\n",
    "# 构建词典\n",
    "word_to_idx = {word: i for i, word in enumerate(word_list)}\n",
    "# 构建逆词典\n",
    "idx_to_word = {i: word for i, word in enumerate(word_list)}\n",
    "voc_size = len(word_list)  # 词汇表的大小\n",
    "print(\"词汇表: \", word_to_idx)\n",
    "print(\"词汇表大小：\", voc_size)"
   ],
   "outputs": [
    {
     "name": "stdout",
     "output_type": "stream",
     "text": [
      "词汇表:  {'爱': 0, '玩具': 1, '爸爸': 2, '我': 3, '挨打': 4, '喜欢': 5, '讨厌': 6}\n",
      "词汇表大小： 7\n"
     ]
    }
   ],
   "execution_count": 6
  },
  {
   "metadata": {
    "ExecuteTime": {
     "end_time": "2024-11-23T08:52:31.783377Z",
     "start_time": "2024-11-23T08:52:31.772375Z"
    }
   },
   "cell_type": "code",
   "source": [
    "# 构建批处理数据\n",
    "import torch\n",
    "import random\n",
    "batch_size = 2\n",
    "def make_batch():\n",
    "    input_batch = []  # 输入数据\n",
    "    target_batch = []  # 输出数据\n",
    "    selected_sentences = random.sample(sentences, batch_size)  # 随机选择batch_size个句子\n",
    "    for sen in selected_sentences: # 遍历每个句子\n",
    "        word = sen.split()  # 分词\n",
    "        # 将除最后一个词以外的词作为输入，最后一个词作为输出\n",
    "        input = [word_to_idx[w] for w in word[:-1]]\n",
    "        target = word_to_idx[word[-1]]\n",
    "        input_batch.append(input)  # 添加到输入数据\n",
    "        target_batch.append(target)  # 添加到输出数据\n",
    "    input_batch = torch.LongTensor(input_batch)  # 转换为LongTensor\n",
    "    target_batch = torch.LongTensor(target_batch)  # 转换为LongTensor\n",
    "    return input_batch, target_batch\n",
    "\n",
    "input_batch, target_batch = make_batch()  # 生成批处理数据\n",
    "print(\"输入批处理数据: \", input_batch)  # 打印输入数据\n",
    "# 将输入批数据中的每个索引值转化为对应的原始词\n",
    "input_words = []\n",
    "for input_idx in input_batch:\n",
    "    input_words.append([idx_to_word[idx.item()] for idx in input_idx])\n",
    "print(\"输入批处理数据对应的原始词: \", input_words)  # 打印输入词\n",
    "print(\"目标批处理数据：\", target_batch)  # 打印输出数据\n",
    "# 将输出批数据中的每个索引值转化为对应的原始词\n",
    "target_words = [idx_to_word[idx.item()] for idx in target_batch]\n",
    "print(\"目标批处理数据对应的原始词: \", target_words)  # 打印输出词"
   ],
   "id": "5d7365372d25c0db",
   "outputs": [
    {
     "name": "stdout",
     "output_type": "stream",
     "text": [
      "输入批处理数据:  tensor([[3, 6],\n",
      "        [3, 0]])\n",
      "输入批处理数据对应的原始词:  [['我', '讨厌'], ['我', '爱']]\n",
      "目标批处理数据： tensor([4, 2])\n",
      "目标批处理数据对应的原始词:  ['挨打', '爸爸']\n"
     ]
    }
   ],
   "execution_count": 7
  },
  {
   "metadata": {
    "ExecuteTime": {
     "end_time": "2024-11-23T08:52:31.893414Z",
     "start_time": "2024-11-23T08:52:31.878012Z"
    }
   },
   "cell_type": "code",
   "source": [
    "n_hidden = 2  # 隐藏层的大小\n",
    "embedding_size = 2  # 词嵌入的大小"
   ],
   "id": "143d0dbd4b4ce39",
   "outputs": [],
   "execution_count": 8
  },
  {
   "metadata": {
    "ExecuteTime": {
     "end_time": "2024-11-23T08:52:31.924464Z",
     "start_time": "2024-11-23T08:52:31.910940Z"
    }
   },
   "cell_type": "code",
   "source": [
    "import torch.nn as nn  # 导入神经网络模块\n",
    "# 定义神经概率语言模型\n",
    "class NPLM(nn.Module):\n",
    "    def __init__(self):\n",
    "        super(NPLM, self).__init__()\n",
    "        self.C = nn.Embedding(voc_size, embedding_size) # 词嵌入层\n",
    "        # 用LSTM层替代第一个线性层，其输入大小为embedding_size，隐藏层大小为n_hidden\n",
    "        self.lstm = nn.LSTM(embedding_size, n_hidden, batch_first=True)\n",
    "        # 第二个线性层，其输入大小为 n_hidden，输出大小为voc_size，即词汇表的大小\n",
    "        self.linerar2 = nn.Linear(n_hidden, voc_size)\n",
    "    def forward(self, X):\n",
    "        # 输入张量的形状为(batch_size, n_step)\n",
    "        X = self.C(X)  # X通过词嵌入层，形状变为(batch_size, n_step, embedding_size)\n",
    "        lstm_out, _ = self.lstm(X)  # X通过LSTM层，形状变为(batch_size, n_step, n_hidden)\n",
    "        output = self.linerar2(lstm_out[:, -1, :])  # 取最后一个时间步的输出，形状变为(batch_size, voc_size)\n",
    "        return output"
   ],
   "id": "55fdafe0d306a5f0",
   "outputs": [],
   "execution_count": 9
  },
  {
   "metadata": {
    "ExecuteTime": {
     "end_time": "2024-11-23T08:52:31.955456Z",
     "start_time": "2024-11-23T08:52:31.942458Z"
    }
   },
   "cell_type": "code",
   "source": [
    "model = NPLM()  # 实例化模型\n",
    "print(\"模型结构：\", model)  # 打印模型结构"
   ],
   "id": "ffd26f16e1031f1a",
   "outputs": [
    {
     "name": "stdout",
     "output_type": "stream",
     "text": [
      "模型结构： NPLM(\n",
      "  (C): Embedding(7, 2)\n",
      "  (lstm): LSTM(2, 2, batch_first=True)\n",
      "  (linerar2): Linear(in_features=2, out_features=7, bias=True)\n",
      ")\n"
     ]
    }
   ],
   "execution_count": 10
  },
  {
   "metadata": {
    "ExecuteTime": {
     "end_time": "2024-11-23T09:08:04.162142Z",
     "start_time": "2024-11-23T09:07:53.874784Z"
    }
   },
   "cell_type": "code",
   "source": [
    "import torch.optim as optim  # 导入优化器\n",
    "criterion = nn.CrossEntropyLoss()  # 定义损失函数\n",
    "optimizer = optim.Adam(model.parameters(), lr=0.1)  # 定义优化器\n",
    "# 训练模型\n",
    "for epoch in range(5000): # 训练5000次\n",
    "    optimizer.zero_grad()  # 梯度清零\n",
    "    input_batch, target_batch = make_batch()  # 生成批处理数据\n",
    "    output = model(input_batch)  # 模型输出\n",
    "    loss = criterion(output, target_batch)  # 计算损失\n",
    "    if (epoch + 1) % 1000 == 0:  # 每1000次打印一次损失\n",
    "        print('Epoch:', '%04d' % (epoch + 1), 'cost =', '{:.6f}'.format(loss))\n",
    "    loss.backward()  # 反向传播\n",
    "    optimizer.step()  # 更新参数"
   ],
   "id": "e4067d2bf4eef694",
   "outputs": [
    {
     "name": "stdout",
     "output_type": "stream",
     "text": [
      "Epoch: 1000 cost = 0.000255\n",
      "Epoch: 2000 cost = 0.000078\n",
      "Epoch: 3000 cost = 0.000038\n",
      "Epoch: 4000 cost = 0.000018\n",
      "Epoch: 5000 cost = 0.000011\n"
     ]
    }
   ],
   "execution_count": 11
  },
  {
   "metadata": {
    "ExecuteTime": {
     "end_time": "2024-11-23T09:08:06.542105Z",
     "start_time": "2024-11-23T09:08:06.522105Z"
    }
   },
   "cell_type": "code",
   "source": [
    "# 进行预测\n",
    "input_strs = [['我', '喜欢'], ['我', '讨厌']]  # 需要预测的输入序列\n",
    "# 将输入序列转化为索引序列\n",
    "input_batch = torch.LongTensor([[word_to_idx[word] for word in input_str] for input_str in input_strs])\n",
    "# 进行预测\n",
    "predict = model(input_batch).data.max(1)[1]\n",
    "# 将预测结果转化为对应的词\n",
    "predict_words = [idx_to_word[idx.item()] for idx in predict]\n",
    "for input_seq, pred in zip(input_strs, predict_words):\n",
    "    print(input_seq, \"->\", pred)"
   ],
   "id": "44afc3e8d2015dfd",
   "outputs": [
    {
     "name": "stdout",
     "output_type": "stream",
     "text": [
      "['我', '喜欢'] -> 玩具\n",
      "['我', '讨厌'] -> 挨打\n"
     ]
    }
   ],
   "execution_count": 12
  },
  {
   "metadata": {},
   "cell_type": "code",
   "outputs": [],
   "execution_count": null,
   "source": "",
   "id": "841909ab65fdebd2"
  }
 ],
 "metadata": {
  "kernelspec": {
   "display_name": "Python 3",
   "language": "python",
   "name": "python3"
  },
  "language_info": {
   "codemirror_mode": {
    "name": "ipython",
    "version": 2
   },
   "file_extension": ".py",
   "mimetype": "text/x-python",
   "name": "python",
   "nbconvert_exporter": "python",
   "pygments_lexer": "ipython2",
   "version": "2.7.6"
  }
 },
 "nbformat": 4,
 "nbformat_minor": 5
}
