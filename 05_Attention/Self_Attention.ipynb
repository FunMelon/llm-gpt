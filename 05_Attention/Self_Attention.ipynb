{
 "cells": [
  {
   "cell_type": "code",
   "id": "initial_id",
   "metadata": {
    "collapsed": true,
    "ExecuteTime": {
     "end_time": "2024-11-24T11:55:22.922084Z",
     "start_time": "2024-11-24T11:55:22.902690Z"
    }
   },
   "source": [
    "# 一个最简单的自注意力机制\n",
    "import torch\n",
    "import torch.nn.functional as F\n",
    "# 一个形状为(batch_size, seq_len, feature_len)的张量\n",
    "x = torch.randn(2, 3, 4)\n",
    "# 计算原始权重，形状为(batch_size, seq_len, seq_len)\n",
    "raw_weights = torch.bmm(x, x.transpose(1, 2))\n",
    "# 通过softmax函数获得注意力权重，形状为(batch_size, seq_len, seq_len)\n",
    "attn_weights = F.softmax(raw_weights, dim=2)\n",
    "# 计算加权和，形状为(batch_size, seq_len, feature_len)\n",
    "attn_outputs = torch.bmm(attn_weights, x)"
   ],
   "outputs": [],
   "execution_count": 2
  },
  {
   "metadata": {
    "ExecuteTime": {
     "end_time": "2024-11-24T11:55:50.781805Z",
     "start_time": "2024-11-24T11:55:50.773294Z"
    }
   },
   "cell_type": "code",
   "source": [
    "# 一个形状为(batch_size, seq_len, feature_len)的张量\n",
    "x = torch.randn(2, 3, 4)\n",
    "# 定义线性层用于将x转化为Q，K，V向量\n",
    "linear_q = torch.nn.Linear(4, 4)\n",
    "linear_k = torch.nn.Linear(4, 4)\n",
    "linear_v = torch.nn.Linear(4, 4)\n",
    "# 计算Q，K，V向量\n",
    "Q = linear_q(x) # 形状(batch_size, seq_len, feature_len)\n",
    "K = linear_k(x) # 形状(batch_size, seq_len, feature_len)\n",
    "V = linear_v(x) # 形状(batch_size, seq_len, feature_len)\n",
    "# 计算Q和K的点积，作为相似度分数，也就是自注意力原始权重\n",
    "raw_weights = torch.bmm(Q, K.transpose(1, 2)) # 形状(batch_size, seq_len, seq_len)\n",
    "# 将自注意力原始权重进行缩放\n",
    "scaled_weights = raw_weights / (K.shape[-1] ** 0.5) # 形状(batch_size, seq_len, seq_len)\n",
    "# 通过softmax函数获得注意力权重\n",
    "attn_weights = F.softmax(scaled_weights, dim=2) # 形状(batch_size, seq_len, seq_len)\n",
    "# 将自注意力权重应用与V向量，计算加权和，得到加权信息\n",
    "attn_outputs = torch.bmm(attn_weights, V) # 形状(batch_size, seq_len, feature_len)\n",
    "print(\"加权信息：\", attn_outputs)"
   ],
   "id": "4a533f008400b07",
   "outputs": [
    {
     "name": "stdout",
     "output_type": "stream",
     "text": [
      "加权信息： tensor([[[-0.1772,  0.4778,  0.0709, -0.6500],\n",
      "         [-0.1827,  0.4740,  0.0689, -0.6380],\n",
      "         [-0.1845,  0.4744,  0.0673, -0.6357]],\n",
      "\n",
      "        [[-0.0693, -0.1233,  0.1122,  0.0701],\n",
      "         [-0.0321, -0.1023,  0.0937,  0.0387],\n",
      "         [-0.0730, -0.0741,  0.0976,  0.0124]]], grad_fn=<BmmBackward0>)\n"
     ]
    }
   ],
   "execution_count": 4
  },
  {
   "metadata": {},
   "cell_type": "code",
   "outputs": [],
   "execution_count": null,
   "source": "",
   "id": "5809190049c96590"
  }
 ],
 "metadata": {
  "kernelspec": {
   "display_name": "Python 3",
   "language": "python",
   "name": "python3"
  },
  "language_info": {
   "codemirror_mode": {
    "name": "ipython",
    "version": 2
   },
   "file_extension": ".py",
   "mimetype": "text/x-python",
   "name": "python",
   "nbconvert_exporter": "python",
   "pygments_lexer": "ipython2",
   "version": "2.7.6"
  }
 },
 "nbformat": 4,
 "nbformat_minor": 5
}
