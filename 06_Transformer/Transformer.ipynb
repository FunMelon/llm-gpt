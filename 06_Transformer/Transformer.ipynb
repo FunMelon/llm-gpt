{
 "cells": [
  {
   "cell_type": "code",
   "id": "initial_id",
   "metadata": {
    "collapsed": true,
    "ExecuteTime": {
     "end_time": "2024-11-26T06:49:09.822388Z",
     "start_time": "2024-11-26T06:49:09.815385Z"
    }
   },
   "source": [
    "import numpy as np\n",
    "import torch\n",
    "import torch.nn as nn\n",
    "\n",
    "d_k = 64 # K（=Q）维度\n",
    "d_v = 64 # V维度\n",
    "# 定义缩放点积注意力类\n",
    "class ScaledDotProductAttention(nn.Module):\n",
    "    def __init__(self):\n",
    "        super(ScaledDotProductAttention, self).__init__()\n",
    "    def forward(self, Q, K, V, attn_mask):\n",
    "        #----------------------维度信息------------------------\n",
    "        # Q、K、V [batch_size, n_heads, len_q/k/v, dim_k/v] (dim_q=dim_k)\n",
    "        # attn_mask [batch_size, n_heads, len_q, len_k]\n",
    "        #-------------------------------------------------------\n",
    "        # 计算注意力分数（原始权重）[batch_size, n_heads, len_q, dim_q] * [batch_size, n_heads, dim_k, len_q] = [batch_size, n_heads, len_q, len_k]\n",
    "        scores = torch.matmul(Q, K.transpose(-1, -2)) / np.sqrt(d_k)\n",
    "        #----------------------维度信息------------------------\n",
    "        # scores [batch_size, n_heads, len_q, len_k]\n",
    "        #-------------------------------------------------------\n",
    "        # 使用注意力掩码，将attn_mask中值为1的位置的权重替换为极小值\n",
    "        #----------------------维度信息------------------------\n",
    "        # attn_mask [batch_size, n_heads, len_q, len_k]\n",
    "        #-------------------------------------------------------\n",
    "        scores.masked_fill_(attn_mask, -1e9)\n",
    "        # 用softmax函数对scores进行归一化，得到注意力权重\n",
    "        weights = nn.Softmax(dim=-1)(scores)  # 创建了一个指定最后一个维度的softmax层，并对scores进行softmax操作\n",
    "        #----------------------维度信息------------------------\n",
    "        # weights [batch_size, n_heads, len_q, len_k]\n",
    "        #-------------------------------------------------------\n",
    "        # 计算上下文向量（也就是注意力值），是上下文信息的紧凑表示 [batch_size, n_heads, len_q, len_k] * [batch_size, n_heads, len_k, dim_v] = [batch_size, n_heads, len_q, dim_v]\n",
    "        context = torch.matmul(weights, V)\n",
    "        #----------------------维度信息------------------------\n",
    "        # context [batch_size, n_heads, len_q, dim_v]\n",
    "        #-------------------------------------------------------\n",
    "        return context, weights # 返回上下文信息和注意力权重"
   ],
   "outputs": [],
   "execution_count": 42
  },
  {
   "metadata": {
    "ExecuteTime": {
     "end_time": "2024-11-26T06:49:09.854193Z",
     "start_time": "2024-11-26T06:49:09.839195Z"
    }
   },
   "cell_type": "code",
   "source": [
    "# 定义多头注意力类\n",
    "d_embedding = 512 # 词嵌入维度\n",
    "n_heads = 8 # 多头注意力个数\n",
    "batch_size = 3 # 批次大小\n",
    "class MultiHeadAttention(nn.Module):\n",
    "    def __init__(self):\n",
    "        super(MultiHeadAttention, self).__init__()\n",
    "        # 确保d_model能被n_heads整除\n",
    "        assert d_embedding % n_heads == 0\n",
    "        self.W_Q = nn.Linear(d_embedding, d_k * n_heads)  # Q的线性变换层\n",
    "        self.W_K = nn.Linear(d_embedding, d_k * n_heads)  # K的线性变换层\n",
    "        self.W_V = nn.Linear(d_embedding, d_v * n_heads)  # V的线性变换层\n",
    "        self.linear = nn.Linear(d_v * n_heads, d_embedding)  # 最后的线性变换层\n",
    "        self.layer_norm = nn.LayerNorm(d_embedding)  # Layer Norm层\n",
    "    def forward(self, Q, K, V, attn_mask):\n",
    "        #----------------------维度信息------------------------\n",
    "        # Q、K、V [batch_size, len_q/k/v, embedding_dim]\n",
    "        #-------------------------------------------------------\n",
    "        residual, batch_size = Q, Q.size(0) # 残差连接\n",
    "        # 将输入进行线性变换和重塑，以便后续处理，[batch_size, len_q/k/v, embedding_dim] -> [batch_size, n_heads, len_q/k/v, d_k/d_v]\n",
    "        q_s = self.W_Q(Q).view(batch_size, -1, n_heads, d_k).transpose(1, 2)  # Q [batch_size, n_heads, len_q, d_k]\n",
    "        k_s = self.W_K(K).view(batch_size, -1, n_heads, d_k).transpose(1, 2)  # K [batch_size, n_heads, len_k, d_k]\n",
    "        v_s = self.W_V(V).view(batch_size, -1, n_heads, d_v).transpose(1, 2)  # V [batch_size, n_heads, len_v, d_v]\n",
    "        # 将注意力掩码复制多到头 attn_mask [batch_size, 1, len_q, len_k] -> [batch_size, n_heads, len_q, len_k]\n",
    "        attn_mask = attn_mask.unsqueeze(1).repeat(1, n_heads, 1, 1)\n",
    "        #----------------------维度信息------------------------\n",
    "        # attn_mask [batch_size, n_heads, len_q, len_k]\n",
    "        #-------------------------------------------------------\n",
    "        # 使用缩放点积注意力计算上下文和注意力权重\n",
    "        context, weights = ScaledDotProductAttention()(q_s, k_s, v_s, attn_mask)\n",
    "        #----------------------维度信息------------------------\n",
    "        # context [batch_size, n_heads, len_q, d_v]\n",
    "        # weights [batch_size, n_heads, len_q, len_k]\n",
    "        #-------------------------------------------------------\n",
    "        # 通过调整维度将多个头的上下文向量连接在一起，[batch_size, n_heads, len_q, d_v] -> [batch_size, len_q, n_heads * d_v]\n",
    "        context = context.transpose(1, 2).contiguous().view(batch_size, -1, n_heads * d_v)\n",
    "        #----------------------维度信息------------------------\n",
    "        # context [batch_size, len_q, n_heads * d_v]\n",
    "        #-------------------------------------------------------\n",
    "        # 用一个线性层把连接后的在多头注意力结果转换，原始地嵌入维度，[batch_size, len_q, n_heads * d_v] -> [batch_size, len_q, embedding_dim]\n",
    "        output = self.linear(context)\n",
    "        #----------------------维度信息------------------------\n",
    "        # output [batch_size, len_q, embedding_dim]\n",
    "        #-------------------------------------------------------\n",
    "        # 与输入(Q)进行残差连接，并进行层归一化后处理\n",
    "        output = self.layer_norm(output + residual)\n",
    "        #----------------------维度信息------------------------\n",
    "        # output [batch_size, len_q, embedding_dim]\n",
    "        #-------------------------------------------------------\n",
    "        return output, weights  # 返回层归一化的输出和和注意力权重"
   ],
   "id": "19308c8951d6efb9",
   "outputs": [],
   "execution_count": 43
  },
  {
   "metadata": {
    "ExecuteTime": {
     "end_time": "2024-11-26T06:49:09.885558Z",
     "start_time": "2024-11-26T06:49:09.871027Z"
    }
   },
   "cell_type": "code",
   "source": [
    "# 定义逐位置前馈网络\n",
    "class PoswiseFeedForwardNet(nn.Module):\n",
    "    def __init__(self, d_ff=2048):\n",
    "        super(PoswiseFeedForwardNet, self).__init__()\n",
    "        # 定义一维卷积层1，用于将输入映射到更高维度\n",
    "        self.conv1 = nn.Conv1d(in_channels=d_embedding, out_channels=d_ff, kernel_size=1)\n",
    "        # 定义一维卷积层2，用于将映射后的向量映射回原始维度\n",
    "        self.conv2 = nn.Conv1d(in_channels=d_ff, out_channels=d_embedding, kernel_size=1)\n",
    "        # 定义层归一化\n",
    "        self.layer_norm = nn.LayerNorm(d_embedding)\n",
    "    def forward(self, inputs):\n",
    "        #----------------------维度信息------------------------\n",
    "        # inputs [batch_size, len_q, embedding_dim]\n",
    "        #-------------------------------------------------------\n",
    "        residual = inputs  # 保留残差连接\n",
    "        # 在第一个卷积层1后使用ReLU函数，[batch_size, len_q, embedding_dim] -> [batch_size, embedding_dim, len_q] -> [batch_size, len_q, d_ff]\n",
    "        output = nn.ReLU()(self.conv1(inputs.transpose(1, 2)))\n",
    "        #----------------------维度信息------------------------\n",
    "        # output [batch_size, d_ff, len_q]\n",
    "        #-------------------------------------------------------\n",
    "        # 使用卷积2进行降维\n",
    "        output = self.conv2(output).transpose(1, 2)\n",
    "        #----------------------维度信息------------------------\n",
    "        # output [batch_size, len_q, embedding_dim]\n",
    "        #-------------------------------------------------------\n",
    "        # 与输入进行残差连接，并进行层归一化\n",
    "        output = self.layer_norm(output + residual)\n",
    "        #----------------------维度信息------------------------\n",
    "        # output [batch_size, len_q, embedding_dim]\n",
    "        #-------------------------------------------------------\n",
    "        return output  # 返回层归一化的输出"
   ],
   "id": "40ea403c982fbcd5",
   "outputs": [],
   "execution_count": 44
  },
  {
   "metadata": {
    "ExecuteTime": {
     "end_time": "2024-11-26T06:49:09.916661Z",
     "start_time": "2024-11-26T06:49:09.902169Z"
    }
   },
   "cell_type": "code",
   "source": [
    "# 生成正弦位置编码表的函数，用于在Transformer中引入位置信息\n",
    "def get_sin_enc_table(n_position, embedding_dim):\n",
    "    #----------------------维度信息------------------------\n",
    "    # n_position: 输入序列的最大长度\n",
    "    # embedding_dim: 词嵌入的维度\n",
    "    #-------------------------------------------------------\n",
    "    # 根据位置和维度信息，初始化正弦位置编码表\n",
    "    sinusoid_table = np.zeros((n_position, embedding_dim))\n",
    "    # 遍历所有的位置和维度，计算角度值\n",
    "    for pos_i in range(n_position):\n",
    "        for hid_j in range(embedding_dim):\n",
    "            # 根据位置和维度计算角度值\n",
    "            angle = pos_i / np.power(10000, 2 * (hid_j // 2) / embedding_dim)\n",
    "            sinusoid_table[pos_i, hid_j] = angle\n",
    "    # 计算正弦和余弦值\n",
    "    sinusoid_table[:, 0::2] = np.sin(sinusoid_table[:, 0::2])  # dim 2i偶数堆\n",
    "    sinusoid_table[:, 1::2] = np.cos(sinusoid_table[:, 1::2])  # dim 2i+1奇数堆\n",
    "    #----------------------维度信息------------------------\n",
    "    # sinusoid_table [n_position, embedding_dim]\n",
    "    #-------------------------------------------------------\n",
    "    return torch.FloatTensor(sinusoid_table)  # 返回正弦位置编码表"
   ],
   "id": "3e394abbaea8fe93",
   "outputs": [],
   "execution_count": 45
  },
  {
   "metadata": {
    "ExecuteTime": {
     "end_time": "2024-11-26T06:49:09.947814Z",
     "start_time": "2024-11-26T06:49:09.933817Z"
    }
   },
   "cell_type": "code",
   "source": [
    "# 定义填充注意力掩码函数\n",
    "def get_attn_pad_mask(seq_q, seq_k):\n",
    "    #----------------------维度信息------------------------\n",
    "    # seq_q的维度是[batch_size, len_q]\n",
    "    # seq_k的维度是[batch_size, len_k]\n",
    "    #-------------------------------------------------------\n",
    "    batch_size, len_q = seq_q.size()\n",
    "    batch_size, len_k = seq_k.size()\n",
    "    # 生成布尔类型张量\n",
    "    pad_attn_mask = seq_k.data.eq(0).unsqueeze(1)  # <PAD>token的编码值为0\n",
    "    #----------------------维度信息------------------------\n",
    "    # pad_attn_mask [batch_size, 1, len_k]\n",
    "    #-------------------------------------------------------\n",
    "    # 变形为与注意力分数相同的张量\n",
    "    pad_attn_mask = pad_attn_mask.expand(batch_size, len_q, len_k)\n",
    "    #----------------------维度信息------------------------\n",
    "    # pad_attn_mask [batch_size, len_q, len_k]\n",
    "    #-------------------------------------------------------\n",
    "    return pad_attn_mask  # 返回注意力掩码张量"
   ],
   "id": "21c169ab6839b5d5",
   "outputs": [],
   "execution_count": 46
  },
  {
   "metadata": {
    "ExecuteTime": {
     "end_time": "2024-11-26T06:49:09.979349Z",
     "start_time": "2024-11-26T06:49:09.966824Z"
    }
   },
   "cell_type": "code",
   "source": [
    "# 定义编码器层类\n",
    "class EncoderLayer(nn.Module):\n",
    "    def __init__(self):\n",
    "        super(EncoderLayer, self).__init__()\n",
    "        self.enc_self_attn = MultiHeadAttention()  # 多头注意力层\n",
    "        self.pos_ffn = PoswiseFeedForwardNet()  # 前馈神经网络层\n",
    "    def forward(self, enc_inputs, enc_self_attn_mask):\n",
    "        #----------------------维度信息------------------------\n",
    "        # enc_inputs [batch_size, seq_len, embedding_dim]\n",
    "        # enc_self_attn_mask [batch_size, seq_len, seq_len]\n",
    "        #-------------------------------------------------------\n",
    "        # 将相同的Q，K，V输入到多头注意力层，返回的attn_weights增加了头数\n",
    "        enc_outputs, attn_weights = self.enc_self_attn(enc_inputs, enc_inputs, enc_inputs, enc_self_attn_mask)\n",
    "        #----------------------维度信息------------------------\n",
    "        # enc_outputs [batch_size, seq_len, embedding_dim]\n",
    "        # attn_weights [batch_size, n_heads, seq_len, seq_len]\n",
    "        #-------------------------------------------------------\n",
    "        # 将多头注意力的输出输入到前馈神经网络层\n",
    "        enc_outputs = self.pos_ffn(enc_outputs)  # 维度与enc_inputs相同\n",
    "        #----------------------维度信息------------------------\n",
    "        # enc_outputs [batch_size, seq_len, embedding_dim]\n",
    "        #-------------------------------------------------------\n",
    "        return enc_outputs, attn_weights  # 返回前馈神经网络层的输出和注意力权重"
   ],
   "id": "e950db57435916cf",
   "outputs": [],
   "execution_count": 47
  },
  {
   "metadata": {
    "ExecuteTime": {
     "end_time": "2024-11-26T06:49:10.010363Z",
     "start_time": "2024-11-26T06:49:09.996348Z"
    }
   },
   "cell_type": "code",
   "source": [
    "# 定义编码器类\n",
    "n_layers = 6 # 编码器层数\n",
    "class Encoder(nn.Module):\n",
    "    def __init__(self, corpus):\n",
    "        super(Encoder, self).__init__()\n",
    "        self.src_emb = nn.Embedding(len(corpus.src_vocab), d_embedding)  # 词嵌入层\n",
    "        self.pos_emb = nn.Embedding.from_pretrained(get_sin_enc_table(corpus.src_len+1, d_embedding), freeze=True) # 位置嵌入层, src_len+1是因为有一个<PAD>token\n",
    "        self.lawyers = nn.ModuleList(EncoderLayer() for _ in range(n_layers)) # 编码器层列表\n",
    "    def forward(self, enc_inputs):\n",
    "        #----------------------维度信息------------------------\n",
    "        # enc_inputs [batch_size, source_len]\n",
    "        #-------------------------------------------------------\n",
    "        # 创建一个从1到source_len的位置索引序列\n",
    "        pos_indices = torch.arange(1, enc_inputs.size(1) + 1).unsqueeze(0).to(enc_inputs.device)\n",
    "        #----------------------维度信息------------------------\n",
    "        # pos_indices [1, source_len]\n",
    "        #-------------------------------------------------------\n",
    "        # 将输入序列的索引和位置信息相加，得到位置索引\n",
    "        enc_outputs = self.src_emb(enc_inputs) + self.pos_emb(pos_indices)\n",
    "        #----------------------维度信息------------------------\n",
    "        # enc_outputs [batch_size, source_len, embedding_dim]\n",
    "        #-------------------------------------------------------\n",
    "        # 生成自注意力掩码\n",
    "        enc_self_attn_mask = get_attn_pad_mask(enc_inputs, enc_inputs)\n",
    "        #----------------------维度信息------------------------\n",
    "        # enc_self_attn_mask [batch_size, source_len, source_len]\n",
    "        #-------------------------------------------------------\n",
    "        enc_self_attn_weights = []  # 用于存储每个编码器层的注意力权重\n",
    "        # 通过每个编码器层\n",
    "        for layer in self.lawyers:\n",
    "            enc_outputs, enc_self_attn_weight = layer(enc_outputs, enc_self_attn_mask)\n",
    "            enc_self_attn_weights.append(enc_self_attn_weight)\n",
    "        #----------------------维度信息------------------------\n",
    "        # enc_outputs [batch_size, seq_len, embedding_dim]与enc_inputs维度相同\n",
    "        # enc_self_attn_weights [n_layers, batch_size, n_heads, seq_len, seq_len]\n",
    "        #-------------------------------------------------------\n",
    "        return enc_outputs, enc_self_attn_weights  # 返回编码器的输出和注意力权重"
   ],
   "id": "acfb158588c08a17",
   "outputs": [],
   "execution_count": 48
  },
  {
   "metadata": {
    "ExecuteTime": {
     "end_time": "2024-11-26T06:49:10.040487Z",
     "start_time": "2024-11-26T06:49:10.026348Z"
    }
   },
   "cell_type": "code",
   "source": [
    "# 生成后续注意力掩码的函数，用于在多头自注意力计算中忽略未来信息\n",
    "def get_attn_subsequence_mask(seq):\n",
    "    #----------------------维度信息------------------------\n",
    "    # seq的维度是[batch_size, seq_len(Q)=seq_len(K)]\n",
    "    #-------------------------------------------------------\n",
    "    # 获取输入序列的形状\n",
    "    attn_shape = [seq.size(0), seq.size(1), seq.size(1)]\n",
    "    #----------------------维度信息------------------------\n",
    "    # attn_shape [batch_size, seq_len, seq_len]\n",
    "    #-------------------------------------------------------\n",
    "    # 生成一个下三角矩阵\n",
    "    subsequent_mask = np.triu(np.ones(attn_shape), k=1)\n",
    "    #----------------------维度信息------------------------\n",
    "    # subsequent_mask [batch_size, seq_len, seq_len]\n",
    "    #-------------------------------------------------------\n",
    "    # 将numpy数组转换为Tensor，并将其转换为布尔类型\n",
    "    subsequent_mask = torch.from_numpy(subsequent_mask).bool()\n",
    "    #----------------------维度信息------------------------\n",
    "    # subsequent_mask [batch_size, seq_len, seq_len]\n",
    "    #-------------------------------------------------------\n",
    "    return subsequent_mask  # 返回后续注意力掩码张量"
   ],
   "id": "ab47095db8271f6b",
   "outputs": [],
   "execution_count": 49
  },
  {
   "metadata": {
    "ExecuteTime": {
     "end_time": "2024-11-26T06:49:10.071514Z",
     "start_time": "2024-11-26T06:49:10.057501Z"
    }
   },
   "cell_type": "code",
   "source": [
    "# 定义解码器层类\n",
    "class DecoderLayer(nn.Module):\n",
    "    def __init__(self):\n",
    "        super(DecoderLayer, self).__init__()\n",
    "        self.dec_self_attn = MultiHeadAttention()  # 解码器自注意力层\n",
    "        self.enc_dec_attn = MultiHeadAttention()  # 编码器-解码器注意力层\n",
    "        self.pos_ffn = PoswiseFeedForwardNet()  # 前馈神经网络层\n",
    "    def forward(self, dec_inputs, enc_outputs, dec_self_attn_mask, dec_enc_attn_mask):\n",
    "        #----------------------维度信息------------------------\n",
    "        # dec_inputs [batch_size, target_len, embedding_dim]\n",
    "        # enc_outputs [batch_size, source_len, embedding_dim]\n",
    "        # dec_self_attn_mask [batch_size, target_len, target_len]\n",
    "        # dec_enc_attn_mask [batch_size, target_len, source_len]\n",
    "        #-------------------------------------------------------\n",
    "        # 将相同的Q，K，V输入到解码器自注意力层\n",
    "        dec_outputs, dec_self_attn = self.dec_self_attn(dec_inputs, dec_inputs, dec_inputs, dec_self_attn_mask)\n",
    "        #----------------------维度信息------------------------\n",
    "        # dec_outputs [batch_size, target_len, embedding_dim]\n",
    "        # dec_self_attn [batch_size, n_heads, target_len, target_len]\n",
    "        #-------------------------------------------------------\n",
    "        # 将解码器的输出和编码器的输出输入到编码器-解码器注意力层\n",
    "        dec_outputs, dec_enc_attn = self.enc_dec_attn(dec_outputs, enc_outputs, enc_outputs, dec_enc_attn_mask)\n",
    "        #----------------------维度信息------------------------\n",
    "        # dec_outputs [batch_size, target_len, embedding_dim]\n",
    "        # dec_enc_attn [batch_size, n_heads, target_len, source_len]\n",
    "        #-------------------------------------------------------    \n",
    "        # 将编码器-解码器注意力层的输出输入到前馈神经网络层\n",
    "        dec_outputs = self.pos_ffn(dec_outputs)\n",
    "        #----------------------维度信息------------------------\n",
    "        # dec_outputs [batch_size, target_len, embedding_dim]\n",
    "        #-------------------------------------------------------\n",
    "        # 返回前馈神经网络层的输出、解码器自注意力权重和编码器-解码器注意力权重\n",
    "        return dec_outputs, dec_self_attn, dec_enc_attn"
   ],
   "id": "8c11c30d14dbeae4",
   "outputs": [],
   "execution_count": 50
  },
  {
   "metadata": {
    "ExecuteTime": {
     "end_time": "2024-11-26T06:49:10.102591Z",
     "start_time": "2024-11-26T06:49:10.088582Z"
    }
   },
   "cell_type": "code",
   "source": [
    "# 定义解码器类\n",
    "n_layers = 6 # 解码器层数\n",
    "class Decoder(nn.Module):\n",
    "    def __init__(self, corpus):\n",
    "        super(Decoder, self).__init__()\n",
    "        self.tgt_emb = nn.Embedding(len(corpus.tgt_vocab), d_embedding)  # 词嵌入层\n",
    "        self.pos_emb = nn.Embedding.from_pretrained(get_sin_enc_table(corpus.tgt_len+1, d_embedding), freeze=True) # 位置嵌入层, tgt_len+1是因为有一个<PAD>token\n",
    "        self.lawyers = nn.ModuleList([DecoderLayer() for _ in range(n_layers)]) # 解码器层列表\n",
    "    def forward(self, dec_inputs, enc_inputs, enc_outputs):\n",
    "        #----------------------维度信息------------------------\n",
    "        # dec_inputs [batch_size, target_len]\n",
    "        # enc_inputs [batch_size, source_len]\n",
    "        # enc_outputs [batch_size, source_len, embedding_dim]\n",
    "        #-------------------------------------------------------\n",
    "        # 创建一个从1到source_len的位置索引序列\n",
    "        pos_indices = torch.arange(1, dec_inputs.size(1) + 1).unsqueeze(0).to(dec_inputs)\n",
    "        #----------------------维度信息------------------------\n",
    "        # pos_indices [1, target_len]\n",
    "        #-------------------------------------------------------\n",
    "        # 将输入序列的索引和位置信息相加，得到位置索引\n",
    "        dec_outputs = self.tgt_emb(dec_inputs) + self.pos_emb(pos_indices)\n",
    "        #----------------------维度信息------------------------\n",
    "        # dec_outputs [batch_size, target_len, embedding_dim]\n",
    "        #-------------------------------------------------------\n",
    "        # 生成解码器自注意力掩码和解码器-编码器注意力掩码\n",
    "        dec_self_attn_pad_mask = get_attn_pad_mask(dec_inputs, dec_inputs)  # 填充掩码\n",
    "        dec_self_attn_subsequence_mask = get_attn_subsequence_mask(dec_inputs)  # 后续掩码\n",
    "        dec_self_attn_mask = dec_self_attn_pad_mask.bool() | dec_self_attn_subsequence_mask.bool()\n",
    "        # dec_self_attn_mask = torch.gt((dec_self_attn_pad_mask + dec_self_attn_subsequence_mask), 0)\n",
    "        dec_enc_attn_mask = get_attn_pad_mask(dec_inputs, enc_inputs)  # 解码器-编码器掩码\n",
    "        #----------------------维度信息------------------------\n",
    "        # dec_self_attn_mask [batch_size, target_len, target_len]\n",
    "        # dec_enc_attn_mask [batch_size, target_len, source_len]\n",
    "        #-------------------------------------------------------\n",
    "        dec_self_attn_weights, dec_enc_attn_weights = [], []  # 用于存储每个解码器层的注意力权重\n",
    "        # 通过每个解码器层\n",
    "        for layer in self.lawyers:\n",
    "            dec_outputs, dec_self_attn, dec_enc_attn = layer(dec_outputs, enc_outputs, dec_self_attn_mask, dec_enc_attn_mask)\n",
    "            dec_self_attn_weights.append(dec_self_attn)\n",
    "            dec_enc_attn_weights.append(dec_enc_attn)\n",
    "        #----------------------维度信息------------------------\n",
    "        # dec_outputs [batch_size, target_len, embedding_dim]与dec_inputs维度相同\n",
    "        # dec_self_attn_weights [n_layers, batch_size, n_heads, target_len, target_len]\n",
    "        # dec_enc_attn_weights [n_layers, batch_size, n_heads, target_len, source_len]\n",
    "        #-------------------------------------------------------\n",
    "        # 返回解码器的输出、解码器自注意力权重和编码器-解码器注意力权重\n",
    "        return dec_outputs, dec_self_attn_weights, dec_enc_attn_weights"
   ],
   "id": "b113c6242fada59",
   "outputs": [],
   "execution_count": 51
  },
  {
   "metadata": {
    "ExecuteTime": {
     "end_time": "2024-11-26T06:49:10.133274Z",
     "start_time": "2024-11-26T06:49:10.119761Z"
    }
   },
   "cell_type": "code",
   "source": [
    "# 定义Transformer类\n",
    "class Transformer(nn.Module):\n",
    "    def __init__(self, corpus):\n",
    "        super(Transformer, self).__init__()\n",
    "        self.encoder = Encoder(corpus)  # 初始化编码器实例\n",
    "        self.decoder = Decoder(corpus)  # 初始化解码器实例\n",
    "        # 定义线性投影层，将解码器的输出映射到词表维度\n",
    "        self.projection = nn.Linear(d_embedding, len(corpus.tgt_vocab), bias=False)\n",
    "    def forward(self, enc_inputs, dec_inputs):\n",
    "        #----------------------维度信息------------------------\n",
    "        # enc_inputs [batch_size, source_len]\n",
    "        # dec_inputs [batch_size, target_len]\n",
    "        #-------------------------------------------------------\n",
    "        # 将输入传递给编码器，并获取编码器输出和自注意力权重\n",
    "        enc_outputs, enc_self_attns = self.encoder(enc_inputs)\n",
    "        #----------------------维度信息------------------------\n",
    "        # enc_outputs [batch_size, source_len, embedding_dim]\n",
    "        # enc_self_attns [n_layers, batch_size, n_heads, source_len, source_len]\n",
    "        #-------------------------------------------------------\n",
    "        # 将编码器的输出和解码器的输入传递给解码器，并获取解码器输出和自注意力权重、编码器-解码器注意力权重\n",
    "        dec_outputs, dec_self_attns, dec_enc_attns = self.decoder(dec_inputs, enc_inputs, enc_outputs)\n",
    "        #----------------------维度信息------------------------\n",
    "        # dec_outputs [batch_size, target_len, embedding_dim]\n",
    "        # dec_self_attns [n_layers, batch_size, n_heads, target_len, source_len]\n",
    "        # dec_enc_attns [n_layers, batch_size, n_heads, target_len, source_len]\n",
    "        #-------------------------------------------------------\n",
    "        # 将解码器的输出映射到词表维度\n",
    "        dec_logits = self.projection(dec_outputs)\n",
    "        #----------------------维度信息------------------------\n",
    "        # dec_logits [batch_size, target_len, tgt_vocab_size]\n",
    "        #-------------------------------------------------------\n",
    "        # 返回预测值，编码器自注意力权重，解码器自注意力权重和编码器-解码器注意力权重\n",
    "        return dec_logits, enc_self_attns, dec_self_attns, dec_enc_attns"
   ],
   "id": "73446656eb4c50de",
   "outputs": [],
   "execution_count": 52
  },
  {
   "metadata": {
    "ExecuteTime": {
     "end_time": "2024-11-26T06:49:10.164286Z",
     "start_time": "2024-11-26T06:49:10.150283Z"
    }
   },
   "cell_type": "code",
   "source": [
    "# 数据准备\n",
    "sentences = [\n",
    "    ['咖哥 喜欢 小冰', 'KaGe likes XiaoBing'],\n",
    "    ['我 爱 学习 人工智能', 'I love studying AI'],\n",
    "    ['深度学习 改变 世界', 'DL changed the world'],\n",
    "    ['自然 语言 处理 很 强大', 'NLP is so powerful'],\n",
    "    ['神经网络 非常 复杂', 'Neural-Nets are complex'],\n",
    "]"
   ],
   "id": "7d5b50c9f944e4b5",
   "outputs": [],
   "execution_count": 53
  },
  {
   "metadata": {
    "ExecuteTime": {
     "end_time": "2024-11-26T06:49:10.195801Z",
     "start_time": "2024-11-26T06:49:10.180804Z"
    }
   },
   "cell_type": "code",
   "source": [
    "from collections import Counter # 导入 Counter 类\n",
    "# 定义 TranslationCorpus 类\n",
    "class TranslationCorpus:\n",
    "    def __init__(self, sentences):\n",
    "        self.sentences = sentences\n",
    "        # 计算源语言和目标语言的最大句子长度，并分别加 1 和 2 以容纳填充符和特殊符号\n",
    "        self.src_len = max(len(sentence[0].split()) for sentence in sentences) + 1\n",
    "        self.tgt_len = max(len(sentence[1].split()) for sentence in sentences) + 2\n",
    "        # 创建源语言和目标语言的词汇表\n",
    "        self.src_vocab, self.tgt_vocab = self.create_vocabularies()\n",
    "        # 创建索引到单词的映射\n",
    "        self.src_idx2word = {v: k for k, v in self.src_vocab.items()}\n",
    "        self.tgt_idx2word = {v: k for k, v in self.tgt_vocab.items()}\n",
    "    # 定义创建词汇表的函数\n",
    "    def create_vocabularies(self):\n",
    "        # 统计源语言和目标语言的单词频率\n",
    "        src_counter = Counter(word for sentence in self.sentences for word in sentence[0].split())\n",
    "        tgt_counter = Counter(word for sentence in self.sentences for word in sentence[1].split())        \n",
    "        # 创建源语言和目标语言的词汇表，并为每个单词分配一个唯一的索引\n",
    "        src_vocab = {'<pad>': 0, **{word: i+1 for i, word in enumerate(src_counter)}}\n",
    "        tgt_vocab = {'<pad>': 0, '<sos>': 1, '<eos>': 2, \n",
    "                     **{word: i+3 for i, word in enumerate(tgt_counter)}}        \n",
    "        return src_vocab, tgt_vocab\n",
    "    # 定义创建批次数据的函数\n",
    "    def make_batch(self, batch_size, test_batch=False):\n",
    "        input_batch, output_batch, target_batch = [], [], []\n",
    "        # 随机选择句子索引\n",
    "        sentence_indices = torch.randperm(len(self.sentences))[:batch_size]\n",
    "        for index in sentence_indices:\n",
    "            src_sentence, tgt_sentence = self.sentences[index]\n",
    "            # 将源语言和目标语言的句子转换为索引序列\n",
    "            src_seq = [self.src_vocab[word] for word in src_sentence.split()]\n",
    "            tgt_seq = [self.tgt_vocab['<sos>']] + [self.tgt_vocab[word] \\\n",
    "                         for word in tgt_sentence.split()] + [self.tgt_vocab['<eos>']]            \n",
    "            # 对源语言和目标语言的序列进行填充\n",
    "            src_seq += [self.src_vocab['<pad>']] * (self.src_len - len(src_seq))\n",
    "            tgt_seq += [self.tgt_vocab['<pad>']] * (self.tgt_len - len(tgt_seq))            \n",
    "            # 将处理好的序列添加到批次中\n",
    "            input_batch.append(src_seq)\n",
    "            output_batch.append([self.tgt_vocab['<sos>']] + ([self.tgt_vocab['<pad>']] * \\\n",
    "                                    (self.tgt_len - 2)) if test_batch else tgt_seq[:-1])\n",
    "            target_batch.append(tgt_seq[1:])        \n",
    "          # 将批次转换为 LongTensor 类型\n",
    "        input_batch = torch.LongTensor(input_batch)\n",
    "        output_batch = torch.LongTensor(output_batch)\n",
    "        target_batch = torch.LongTensor(target_batch)            \n",
    "        return input_batch, output_batch, target_batch\n",
    "# 创建语料库类实例\n",
    "corpus = TranslationCorpus(sentences)"
   ],
   "id": "3c5a3eb91089c96c",
   "outputs": [],
   "execution_count": 54
  },
  {
   "metadata": {
    "ExecuteTime": {
     "end_time": "2024-11-26T06:49:50.797376Z",
     "start_time": "2024-11-26T06:49:10.213802Z"
    }
   },
   "cell_type": "code",
   "source": [
    "# 训练Transformer模型\n",
    "import torch\n",
    "import torch.optim as optim\n",
    "model = Transformer(corpus)  # 创建Transformer实例\n",
    "criterion = nn.CrossEntropyLoss()  # 定义交叉熵损失函数\\\n",
    "optimizer = optim.Adam(model.parameters(), lr=0.0001)  # 定义Adam优化器\n",
    "epochs = 100\n",
    "for epoch in range(epochs):\n",
    "    optimizer.zero_grad()\n",
    "    enc_inputs, dec_inputs, tgt_batch = corpus.make_batch(batch_size)  # 创建批次数据\n",
    "    outputs, _, _, _ = model(enc_inputs, dec_inputs)  # 前向传播\n",
    "    loss = criterion(outputs.view(-1, len(corpus.tgt_vocab)), tgt_batch.view(-1))  # 计算损失\n",
    "    if (epoch + 1) % 20 == 0:\n",
    "        print('Epoch:', '%04d' % (epoch + 1), 'cost =', '{:.6f}'.format(loss))\n",
    "    loss.backward()  # 反向传播\n",
    "    optimizer.step()  # 更新参数"
   ],
   "id": "2d3125cdb75197be",
   "outputs": [
    {
     "name": "stdout",
     "output_type": "stream",
     "text": [
      "Epoch: 0020 cost = 0.036936\n",
      "Epoch: 0040 cost = 0.004030\n",
      "Epoch: 0060 cost = 0.001788\n",
      "Epoch: 0080 cost = 0.001256\n",
      "Epoch: 0100 cost = 0.001012\n"
     ]
    }
   ],
   "execution_count": 55
  },
  {
   "metadata": {
    "ExecuteTime": {
     "end_time": "2024-11-26T06:56:27.903807Z",
     "start_time": "2024-11-26T06:56:27.848288Z"
    }
   },
   "cell_type": "code",
   "source": [
    "# 测试Transformer模型\n",
    "# 创建一个大小为1的批次，目标语言序列在测试阶段，仅包含句子开始符号<sos>\n",
    "enc_inputs, dec_inputs, tgt_batch = corpus.make_batch(batch_size=1, test_batch=True)  # 创建批次数据\n",
    "predict, enc_self_attns, dec_self_attns, dec_enc_attns = model(enc_inputs, dec_inputs)  # 使用模型进行翻译\n",
    "predict = predict.view(-1, len(corpus.tgt_vocab))  # 获取预测值\n",
    "predict = predict.data.max(1, keepdim=True)[1]  # 获取预测值的索引\n",
    "# 打印源语言和目标语言的句子\n",
    "print('Source:', ' '.join([corpus.src_idx2word[src] for src in enc_inputs.data.numpy()[0]]))\n",
    "print('Target:', ' '.join([corpus.tgt_idx2word[tgt] for tgt in tgt_batch.data.numpy()[0]]))"
   ],
   "id": "a7d56a1eccbb1ab0",
   "outputs": [
    {
     "name": "stdout",
     "output_type": "stream",
     "text": [
      "Source: 咖哥 喜欢 小冰 <pad> <pad> <pad>\n",
      "Target: KaGe likes XiaoBing <eos> <pad>\n"
     ]
    }
   ],
   "execution_count": 56
  },
  {
   "metadata": {},
   "cell_type": "code",
   "outputs": [],
   "execution_count": null,
   "source": "",
   "id": "5ebe623aa0be98de"
  }
 ],
 "metadata": {
  "kernelspec": {
   "display_name": "Python 3",
   "language": "python",
   "name": "python3"
  },
  "language_info": {
   "codemirror_mode": {
    "name": "ipython",
    "version": 2
   },
   "file_extension": ".py",
   "mimetype": "text/x-python",
   "name": "python",
   "nbconvert_exporter": "python",
   "pygments_lexer": "ipython2",
   "version": "2.7.6"
  }
 },
 "nbformat": 4,
 "nbformat_minor": 5
}
