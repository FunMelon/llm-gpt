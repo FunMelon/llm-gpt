{
 "cells": [
  {
   "metadata": {
    "ExecuteTime": {
     "end_time": "2024-11-22T15:13:03.217989Z",
     "start_time": "2024-11-22T15:13:03.204993Z"
    }
   },
   "cell_type": "code",
   "source": [
    "import torch\n",
    "\n",
    "# 定义一个句子列表\n",
    "sentences = [\n",
    "    \"Kage is Teacher\",\n",
    "    \"Mazaong is Boss\",\n",
    "    \"Niuzong is Boss\",\n",
    "    \"Xiaobing is Student\",\n",
    "    \"Xiaoxue is Student\",\n",
    "]\n",
    "# 将所有的句子连接在一起，然后使用空格分割多个单词\n",
    "words = \" \".join(sentences).split()\n",
    "# 构建词汇表，使用set去重\n",
    "word_list = list(set(words))\n",
    "# 创建一个字典，将每个词映射到唯一的索引\n",
    "word_to_idx = {word: i for i, word in enumerate(word_list)}\n",
    "# 创建一个字典，将每个索引映射到唯一的词\n",
    "idx_to_word = {i: word for i, word in enumerate(word_list)}\n",
    "voc_size = len(word_list)  # 词汇表大小\n",
    "print(\"词汇表：\", word_list)\n",
    "print(\"词汇到索引的字典：\", word_to_idx)\n",
    "print(\"索引到词汇的字典：\", idx_to_word)\n",
    "print(\"词汇表大小：\", voc_size)"
   ],
   "id": "ecb7d10f27a34cd7",
   "outputs": [
    {
     "name": "stdout",
     "output_type": "stream",
     "text": [
      "词汇表： ['Xiaobing', 'Kage', 'Student', 'Niuzong', 'Teacher', 'Boss', 'Mazaong', 'Xiaoxue', 'is']\n",
      "词汇到索引的字典： {'Xiaobing': 0, 'Kage': 1, 'Student': 2, 'Niuzong': 3, 'Teacher': 4, 'Boss': 5, 'Mazaong': 6, 'Xiaoxue': 7, 'is': 8}\n",
      "索引到词汇的字典： {0: 'Xiaobing', 1: 'Kage', 2: 'Student', 3: 'Niuzong', 4: 'Teacher', 5: 'Boss', 6: 'Mazaong', 7: 'Xiaoxue', 8: 'is'}\n",
      "词汇表大小： 9\n"
     ]
    }
   ],
   "execution_count": 15
  },
  {
   "metadata": {
    "ExecuteTime": {
     "end_time": "2024-11-22T15:13:03.311544Z",
     "start_time": "2024-11-22T15:13:03.293027Z"
    }
   },
   "cell_type": "code",
   "source": [
    "# 生成Skip-Gram训练数据\n",
    "def create_skipgram_dataset(sentences, window_size=2):\n",
    "    data = []\n",
    "    for sentence in sentences:  # 遍历每个句子\n",
    "        sentence = sentence.split()  # 将句子分割成单词\n",
    "        for idx, word in enumerate(sentence):  # 遍历单词及其索引\n",
    "            # 获取相邻单词，将当前的单词和后N个单词组成一个元组\n",
    "            for neighbor in sentence[max(idx - window_size, 0): min(idx + window_size + 1, len(sentence))]:\n",
    "                if neighbor != word:  # 排除当前的单词本身\n",
    "                    data.append((neighbor, word))  # 将相邻单词和当前单词组成一个元组\n",
    "    return data\n",
    "# 使用函数创建Skip-Gram训练数据\n",
    "skipgram_data = create_skipgram_dataset(sentences)\n",
    "# 打印Skip-Gram训练数据（前三个）\n",
    "print(\"Skip-Gram训练数据：\", skipgram_data[:3])"
   ],
   "id": "9d552b63ce8b9914",
   "outputs": [
    {
     "name": "stdout",
     "output_type": "stream",
     "text": [
      "Skip-Gram训练数据： [('is', 'Kage'), ('Teacher', 'Kage'), ('Kage', 'is')]\n"
     ]
    }
   ],
   "execution_count": 16
  },
  {
   "metadata": {
    "ExecuteTime": {
     "end_time": "2024-11-22T15:13:03.405891Z",
     "start_time": "2024-11-22T15:13:03.394801Z"
    }
   },
   "cell_type": "code",
   "source": [
    "# 定义Skip-Gram类\n",
    "import torch.nn as nn\n",
    "class SkipGram(nn.Module):\n",
    "    def __init__(self, voc_size, emb_size):\n",
    "        super(SkipGram, self).__init__()\n",
    "        # 从词汇表大小到嵌入层大小（维度）的线性层（权重矩阵）\n",
    "        self.input_to_hidden = nn.Embedding(voc_size, emb_size)\n",
    "        # 从嵌入层大小（维度）到词汇表大小的线性层（权重矩阵）\n",
    "        self.hidden_to_output = nn.Linear(emb_size, voc_size, bias=False)\n",
    "    def forward(self, X):\n",
    "        # 通过隐藏层，hidden形状为[batch_size, emb_size]\n",
    "        hidden = self.input_to_hidden(X)\n",
    "        # 通过输出层，output形状为[batch_size, voc_size]\n",
    "        output = self.hidden_to_output(hidden)\n",
    "        return output\n",
    "    \n",
    "embedding_size = 2  # 嵌入层大小（维度）\n",
    "skipgram_model = SkipGram(voc_size, embedding_size)\n",
    "print(\"Skip-Gram模型：\", skipgram_model)"
   ],
   "id": "19ff708cbb1df75e",
   "outputs": [
    {
     "name": "stdout",
     "output_type": "stream",
     "text": [
      "Skip-Gram模型： SkipGram(\n",
      "  (input_to_hidden): Embedding(9, 2)\n",
      "  (hidden_to_output): Linear(in_features=2, out_features=9, bias=False)\n",
      ")\n"
     ]
    }
   ],
   "execution_count": 17
  },
  {
   "metadata": {
    "ExecuteTime": {
     "end_time": "2024-11-22T15:13:13.893578Z",
     "start_time": "2024-11-22T15:13:03.434895Z"
    }
   },
   "cell_type": "code",
   "source": [
    "# 训练\n",
    "learning_rate = 0.001  # 学习率\n",
    "epochs = 1000  # 迭代次数\n",
    "criterion = nn.CrossEntropyLoss()  # 损失函数\n",
    "import torch.optim as optim # 优化器\n",
    "optimizer = optim.SGD(skipgram_model.parameters(), lr=learning_rate)  # 随机梯度下降优化器\n",
    "# 开始训练\n",
    "loss_values = []  # 保存损失值\n",
    "for epoch in range(epochs):\n",
    "    loss_sum = 0\n",
    "    for context, target in skipgram_data:\n",
    "        X = torch.tensor([word_to_idx[target]], dtype=torch.long)  # 输入\n",
    "        y_true = torch.tensor([word_to_idx[context]], dtype=torch.long)\n",
    "        y_pred = skipgram_model(X)  # 前向传播\n",
    "        loss = criterion(y_pred, y_true) # 计算损失\n",
    "        loss_sum += loss.item() # 累加损失\n",
    "        optimizer.zero_grad() # 梯度清零\n",
    "        loss.backward()  # 反向传播\n",
    "        optimizer.step() # 更新参数\n",
    "    if (epoch + 1) % 100 == 0:\n",
    "        print(f\"Epoch: {epoch + 1}, Loss: {loss_sum/len(skipgram_data)}\")\n",
    "        loss_values.append(loss_sum / len(skipgram_data))\n",
    "# 绘制损失曲线\n",
    "import matplotlib.pyplot as plt\n",
    "# 绘制二维向量图\n",
    "plt.rcParams['font.family']='sans-serif'\n",
    "plt.rcParams['font.sans-serif'] = ['SimHei']\n",
    "plt.rcParams['axes.unicode_minus'] = False # 显示负号\n",
    "plt.plot(range(1, epochs // 100 + 1), loss_values)\n",
    "plt.title(\"训练损失曲线\")\n",
    "plt.xlabel(\"迭代次数/100\")\n",
    "plt.ylabel(\"损失值\")\n",
    "plt.show()"
   ],
   "id": "d043ae8220b9c1ca",
   "outputs": [
    {
     "name": "stdout",
     "output_type": "stream",
     "text": [
      "Epoch: 100, Loss: 2.095111068089803\n",
      "Epoch: 200, Loss: 2.0206836064656577\n",
      "Epoch: 300, Loss: 1.9701861103375753\n",
      "Epoch: 400, Loss: 1.9321691294511159\n",
      "Epoch: 500, Loss: 1.901148804028829\n",
      "Epoch: 600, Loss: 1.8740347305933633\n",
      "Epoch: 700, Loss: 1.8491009652614594\n",
      "Epoch: 800, Loss: 1.8255384067694347\n",
      "Epoch: 900, Loss: 1.803135299682617\n",
      "Epoch: 1000, Loss: 1.7819815556208292\n"
     ]
    },
    {
     "data": {
      "text/plain": [
       "<Figure size 640x480 with 1 Axes>"
      ],
      "image/png": "[encoded data removed]"
     },
     "metadata": {},
     "output_type": "display_data"
    }
   ],
   "execution_count": 18
  },
  {
   "metadata": {},
   "cell_type": "code",
   "outputs": [],
   "execution_count": null,
   "source": "",
   "id": "67a66983deee956f"
  }
 ],
 "metadata": {
  "kernelspec": {
   "display_name": "Python 3 (ipykernel)",
   "language": "python",
   "name": "python3"
  },
  "language_info": {
   "codemirror_mode": {
    "name": "ipython",
    "version": 3
   },
   "file_extension": ".py",
   "mimetype": "text/x-python",
   "name": "python",
   "nbconvert_exporter": "python",
   "pygments_lexer": "ipython3",
   "version": "3.12.2"
  }
 },
 "nbformat": 4,
 "nbformat_minor": 5
}
